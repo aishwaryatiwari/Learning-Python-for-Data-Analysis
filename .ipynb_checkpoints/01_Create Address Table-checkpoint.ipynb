{
 "cells": [
  {
   "cell_type": "code",
   "execution_count": 0,
   "metadata": {
    "application/vnd.databricks.v1+cell": {
     "inputWidgets": {},
     "nuid": "86a1a5eb-9e24-45a9-874f-00e5afd53897",
     "showTitle": false,
     "title": ""
    }
   },
   "outputs": [
    {
     "data": {
      "text/html": [
       "<style scoped>\n",
       "  .ansiout {\n",
       "    display: block;\n",
       "    unicode-bidi: embed;\n",
       "    white-space: pre-wrap;\n",
       "    word-wrap: break-word;\n",
       "    word-break: break-all;\n",
       "    font-family: \"Source Code Pro\", \"Menlo\", monospace;;\n",
       "    font-size: 13px;\n",
       "    color: #555;\n",
       "    margin-left: 4px;\n",
       "    line-height: 19px;\n",
       "  }\n",
       "</style>\n",
       "<div class=\"ansiout\">Collecting pandasql\n",
       "  Downloading pandasql-0.7.3.tar.gz (26 kB)\n",
       "Requirement already satisfied: numpy in /databricks/python3/lib/python3.7/site-packages (from pandasql) (1.18.1)\n",
       "Requirement already satisfied: pandas in /databricks/python3/lib/python3.7/site-packages (from pandasql) (1.2.0)\n",
       "Collecting sqlalchemy\n",
       "  Downloading SQLAlchemy-1.3.22-cp37-cp37m-manylinux2010_x86_64.whl (1.3 MB)\n",
       "Requirement already satisfied: python-dateutil&gt;=2.7.3 in /databricks/python3/lib/python3.7/site-packages (from pandas-&gt;pandasql) (2.8.1)\n",
       "Requirement already satisfied: pytz&gt;=2017.3 in /databricks/python3/lib/python3.7/site-packages (from pandas-&gt;pandasql) (2019.3)\n",
       "Requirement already satisfied: six&gt;=1.5 in /databricks/python3/lib/python3.7/site-packages (from python-dateutil&gt;=2.7.3-&gt;pandas-&gt;pandasql) (1.14.0)\n",
       "Building wheels for collected packages: pandasql\n",
       "  Building wheel for pandasql (setup.py): started\n",
       "  Building wheel for pandasql (setup.py): finished with status &#39;done&#39;\n",
       "  Created wheel for pandasql: filename=pandasql-0.7.3-py3-none-any.whl size=26817 sha256=f03df75b292178f59f9b2a15a7d26d3af451ece92074984f205755c213d3fb73\n",
       "  Stored in directory: /root/.cache/pip/wheels/5c/4b/ec/41f4e116c8053c3654e2c2a47c62b4fca34cc67ef7b55deb7f\n",
       "Successfully built pandasql\n",
       "Installing collected packages: sqlalchemy, pandasql\n",
       "Successfully installed pandasql-0.7.3 sqlalchemy-1.3.22\n",
       "WARNING: You are using pip version 20.0.2; however, version 20.3.3 is available.\n",
       "You should consider upgrading via the &#39;/databricks/python3/bin/python3.7 -m pip install --upgrade pip&#39; command.\n",
       "</div>"
      ]
     },
     "metadata": {
      "application/vnd.databricks.v1+output": {
       "addedWidgets": {},
       "arguments": {},
       "data": "<div class=\"ansiout\">Collecting pandasql\n  Downloading pandasql-0.7.3.tar.gz (26 kB)\nRequirement already satisfied: numpy in /databricks/python3/lib/python3.7/site-packages (from pandasql) (1.18.1)\nRequirement already satisfied: pandas in /databricks/python3/lib/python3.7/site-packages (from pandasql) (1.2.0)\nCollecting sqlalchemy\n  Downloading SQLAlchemy-1.3.22-cp37-cp37m-manylinux2010_x86_64.whl (1.3 MB)\nRequirement already satisfied: python-dateutil&gt;=2.7.3 in /databricks/python3/lib/python3.7/site-packages (from pandas-&gt;pandasql) (2.8.1)\nRequirement already satisfied: pytz&gt;=2017.3 in /databricks/python3/lib/python3.7/site-packages (from pandas-&gt;pandasql) (2019.3)\nRequirement already satisfied: six&gt;=1.5 in /databricks/python3/lib/python3.7/site-packages (from python-dateutil&gt;=2.7.3-&gt;pandas-&gt;pandasql) (1.14.0)\nBuilding wheels for collected packages: pandasql\n  Building wheel for pandasql (setup.py): started\n  Building wheel for pandasql (setup.py): finished with status &#39;done&#39;\n  Created wheel for pandasql: filename=pandasql-0.7.3-py3-none-any.whl size=26817 sha256=f03df75b292178f59f9b2a15a7d26d3af451ece92074984f205755c213d3fb73\n  Stored in directory: /root/.cache/pip/wheels/5c/4b/ec/41f4e116c8053c3654e2c2a47c62b4fca34cc67ef7b55deb7f\nSuccessfully built pandasql\nInstalling collected packages: sqlalchemy, pandasql\nSuccessfully installed pandasql-0.7.3 sqlalchemy-1.3.22\nWARNING: You are using pip version 20.0.2; however, version 20.3.3 is available.\nYou should consider upgrading via the &#39;/databricks/python3/bin/python3.7 -m pip install --upgrade pip&#39; command.\n</div>",
       "datasetInfos": [],
       "removedWidgets": [],
       "type": "html"
      }
     },
     "output_type": "display_data"
    }
   ],
   "source": [
    "#%sh\n",
    "#pip install pandasql"
   ]
  },
  {
   "cell_type": "code",
   "execution_count": 0,
   "metadata": {
    "application/vnd.databricks.v1+cell": {
     "inputWidgets": {},
     "nuid": "70829a4e-05a8-41b7-80bc-4efab0542ae3",
     "showTitle": false,
     "title": ""
    }
   },
   "outputs": [
    {
     "data": {
      "text/html": [
       "<style scoped>\n",
       "  .ansiout {\n",
       "    display: block;\n",
       "    unicode-bidi: embed;\n",
       "    white-space: pre-wrap;\n",
       "    word-wrap: break-word;\n",
       "    word-break: break-all;\n",
       "    font-family: \"Source Code Pro\", \"Menlo\", monospace;;\n",
       "    font-size: 13px;\n",
       "    color: #555;\n",
       "    margin-left: 4px;\n",
       "    line-height: 19px;\n",
       "  }\n",
       "</style>\n",
       "<div class=\"ansiout\"></div>"
      ]
     },
     "metadata": {
      "application/vnd.databricks.v1+output": {
       "addedWidgets": {},
       "arguments": {},
       "data": "<div class=\"ansiout\"></div>",
       "datasetInfos": [],
       "removedWidgets": [],
       "type": "html"
      }
     },
     "output_type": "display_data"
    }
   ],
   "source": [
    "import pandas as pd\n",
    "import numpy as np\n",
    "import hashlib\n",
    "import pandasql"
   ]
  },
  {
   "cell_type": "code",
   "execution_count": 0,
   "metadata": {
    "application/vnd.databricks.v1+cell": {
     "inputWidgets": {},
     "nuid": "a078466b-6395-4337-a88d-9561c5f46e9a",
     "showTitle": false,
     "title": ""
    }
   },
   "outputs": [
    {
     "data": {
      "text/html": [
       "<style scoped>\n",
       "  .ansiout {\n",
       "    display: block;\n",
       "    unicode-bidi: embed;\n",
       "    white-space: pre-wrap;\n",
       "    word-wrap: break-word;\n",
       "    word-break: break-all;\n",
       "    font-family: \"Source Code Pro\", \"Menlo\", monospace;;\n",
       "    font-size: 13px;\n",
       "    color: #555;\n",
       "    margin-left: 4px;\n",
       "    line-height: 19px;\n",
       "  }\n",
       "</style>\n",
       "<div class=\"ansiout\"></div>"
      ]
     },
     "metadata": {
      "application/vnd.databricks.v1+output": {
       "addedWidgets": {},
       "arguments": {},
       "data": "<div class=\"ansiout\"></div>",
       "datasetInfos": [],
       "removedWidgets": [],
       "type": "html"
      }
     },
     "output_type": "display_data"
    }
   ],
   "source": [
    "p_path = '/dbfs/mnt/dfss01/'\n",
    "\n",
    "release_pdf = pd.read_csv(p_path + '01_Source/07_Configurations/releases.csv')\n",
    "dbutils.widgets.dropdown(\"copa_release\", \"2020_10_25\", list(release_pdf['release']))\n",
    "dbutils.widgets.dropdown(\"idhs_release\", \"2020_10_25\", list(release_pdf['release']))\n",
    "dbutils.widgets.dropdown(\"dcfs_release\", \"2020_10_25\", list(release_pdf['release']))\n",
    "copa_release = dbutils.widgets.get(\"copa_release\")\n",
    "idhs_release = dbutils.widgets.get(\"idhs_release\")\n",
    "dcfs_release = dbutils.widgets.get(\"dcfs_release\")\n",
    "\n",
    "#dbutils.widgets.remove(\"release\")"
   ]
  },
  {
   "cell_type": "code",
   "execution_count": null,
   "metadata": {},
   "outputs": [],
   "source": [
    "dbutils.widgets.remove(\"release\")"
   ]
  },
  {
   "cell_type": "code",
   "execution_count": 0,
   "metadata": {
    "application/vnd.databricks.v1+cell": {
     "inputWidgets": {},
     "nuid": "ad21737f-0d38-4439-8804-0c8aeb06efb1",
     "showTitle": false,
     "title": ""
    }
   },
   "outputs": [
    {
     "data": {
      "text/html": [
       "<style scoped>\n",
       "  .ansiout {\n",
       "    display: block;\n",
       "    unicode-bidi: embed;\n",
       "    white-space: pre-wrap;\n",
       "    word-wrap: break-word;\n",
       "    word-break: break-all;\n",
       "    font-family: \"Source Code Pro\", \"Menlo\", monospace;;\n",
       "    font-size: 13px;\n",
       "    color: #555;\n",
       "    margin-left: 4px;\n",
       "    line-height: 19px;\n",
       "  }\n",
       "</style>\n",
       "<div class=\"ansiout\"></div>"
      ]
     },
     "metadata": {
      "application/vnd.databricks.v1+output": {
       "addedWidgets": {},
       "arguments": {},
       "data": "<div class=\"ansiout\"></div>",
       "datasetInfos": [],
       "removedWidgets": [],
       "type": "html"
      }
     },
     "output_type": "display_data"
    }
   ],
   "source": [
    "def format_add_create_md5(df, address, zip, city, state):\n",
    "  df['street_address_edt'] = df[address].str.strip().astype('str').str.upper()\n",
    "  df['zip_code_edt'] = df[zip].astype('str').str.strip()\n",
    "  df['city_edt'] = df[city].str.strip().astype('str').str.upper()\n",
    "  df['state_edt'] = df[state].str.strip().astype('str').str.upper()\n",
    "  df['add_zip'] = df['street_address_edt'].str.strip().astype('str') + df['zip_code_edt'].str.strip().astype('str')\n",
    "  df['md5'] = df['add_zip'].apply(lambda x: hashlib.md5(x.encode()).hexdigest())  "
   ]
  },
  {
   "cell_type": "markdown",
   "metadata": {
    "application/vnd.databricks.v1+cell": {
     "inputWidgets": {},
     "nuid": "a871b029-45a9-4f50-9a10-39ed8b756725",
     "showTitle": false,
     "title": ""
    }
   },
   "source": [
    "## IDHS"
   ]
  },
  {
   "cell_type": "code",
   "execution_count": 0,
   "metadata": {
    "application/vnd.databricks.v1+cell": {
     "inputWidgets": {},
     "nuid": "2ee52065-3c54-42c7-a11e-0655a9eba2d1",
     "showTitle": false,
     "title": ""
    }
   },
   "outputs": [
    {
     "data": {
      "text/html": [
       "<style scoped>\n",
       "  .ansiout {\n",
       "    display: block;\n",
       "    unicode-bidi: embed;\n",
       "    white-space: pre-wrap;\n",
       "    word-wrap: break-word;\n",
       "    word-break: break-all;\n",
       "    font-family: \"Source Code Pro\", \"Menlo\", monospace;;\n",
       "    font-size: 13px;\n",
       "    color: #555;\n",
       "    margin-left: 4px;\n",
       "    line-height: 19px;\n",
       "  }\n",
       "</style>\n",
       "<div class=\"ansiout\">Out[7]: </div>"
      ]
     },
     "metadata": {
      "application/vnd.databricks.v1+output": {
       "addedWidgets": {},
       "arguments": {},
       "data": "<div class=\"ansiout\">Out[7]: </div>",
       "datasetInfos": [],
       "removedWidgets": [],
       "type": "html"
      }
     },
     "output_type": "display_data"
    },
    {
     "data": {
      "text/html": [
       "<div>\n",
       "<style scoped>\n",
       "    .dataframe tbody tr th:only-of-type {\n",
       "        vertical-align: middle;\n",
       "    }\n",
       "\n",
       "    .dataframe tbody tr th {\n",
       "        vertical-align: top;\n",
       "    }\n",
       "\n",
       "    .dataframe thead th {\n",
       "        text-align: right;\n",
       "    }\n",
       "</style>\n",
       "<table border=\"1\" class=\"dataframe\">\n",
       "  <thead>\n",
       "    <tr style=\"text-align: right;\">\n",
       "      <th></th>\n",
       "      <th>provider_id</th>\n",
       "      <th>provider_name</th>\n",
       "      <th>dba</th>\n",
       "      <th>address</th>\n",
       "      <th>city</th>\n",
       "      <th>state</th>\n",
       "      <th>zip</th>\n",
       "      <th>atyp</th>\n",
       "      <th>srv</th>\n",
       "      <th>prov_id</th>\n",
       "      <th>age</th>\n",
       "      <th>in_606</th>\n",
       "      <th>not_in_606</th>\n",
       "    </tr>\n",
       "  </thead>\n",
       "  <tbody>\n",
       "    <tr>\n",
       "      <th>0</th>\n",
       "      <td>63685400009</td>\n",
       "      <td>CLIFTON KATHY</td>\n",
       "      <td>None</td>\n",
       "      <td>9229 S MARSHFIELD AVE</td>\n",
       "      <td>CHICAGO</td>\n",
       "      <td>IL</td>\n",
       "      <td>60620.0</td>\n",
       "      <td>SRV</td>\n",
       "      <td>762.0</td>\n",
       "      <td>000063685400009</td>\n",
       "      <td>0</td>\n",
       "      <td>0</td>\n",
       "      <td>0</td>\n",
       "    </tr>\n",
       "    <tr>\n",
       "      <th>1</th>\n",
       "      <td>546460600008</td>\n",
       "      <td>ABC LEARNING CENTER II INC</td>\n",
       "      <td>None</td>\n",
       "      <td>10230 S HALSTED ST</td>\n",
       "      <td>CHICAGO</td>\n",
       "      <td>IL</td>\n",
       "      <td>60628.0</td>\n",
       "      <td>SRV</td>\n",
       "      <td>760.0</td>\n",
       "      <td>000546460600008</td>\n",
       "      <td>0</td>\n",
       "      <td>3</td>\n",
       "      <td>0</td>\n",
       "    </tr>\n",
       "  </tbody>\n",
       "</table>\n",
       "</div>"
      ]
     },
     "metadata": {
      "application/vnd.databricks.v1+output": {
       "addedWidgets": {},
       "arguments": {},
       "data": "<div>\n<style scoped>\n    .dataframe tbody tr th:only-of-type {\n        vertical-align: middle;\n    }\n\n    .dataframe tbody tr th {\n        vertical-align: top;\n    }\n\n    .dataframe thead th {\n        text-align: right;\n    }\n</style>\n<table border=\"1\" class=\"dataframe\">\n  <thead>\n    <tr style=\"text-align: right;\">\n      <th></th>\n      <th>provider_id</th>\n      <th>provider_name</th>\n      <th>dba</th>\n      <th>address</th>\n      <th>city</th>\n      <th>state</th>\n      <th>zip</th>\n      <th>atyp</th>\n      <th>srv</th>\n      <th>prov_id</th>\n      <th>age</th>\n      <th>in_606</th>\n      <th>not_in_606</th>\n    </tr>\n  </thead>\n  <tbody>\n    <tr>\n      <th>0</th>\n      <td>63685400009</td>\n      <td>CLIFTON KATHY</td>\n      <td>None</td>\n      <td>9229 S MARSHFIELD AVE</td>\n      <td>CHICAGO</td>\n      <td>IL</td>\n      <td>60620.0</td>\n      <td>SRV</td>\n      <td>762.0</td>\n      <td>000063685400009</td>\n      <td>0</td>\n      <td>0</td>\n      <td>0</td>\n    </tr>\n    <tr>\n      <th>1</th>\n      <td>546460600008</td>\n      <td>ABC LEARNING CENTER II INC</td>\n      <td>None</td>\n      <td>10230 S HALSTED ST</td>\n      <td>CHICAGO</td>\n      <td>IL</td>\n      <td>60628.0</td>\n      <td>SRV</td>\n      <td>760.0</td>\n      <td>000546460600008</td>\n      <td>0</td>\n      <td>3</td>\n      <td>0</td>\n    </tr>\n  </tbody>\n</table>\n</div>",
       "datasetInfos": [],
       "removedWidgets": [],
       "textData": null,
       "type": "htmlSandbox"
      }
     },
     "output_type": "display_data"
    }
   ],
   "source": [
    "idhs_df = pd.read_parquet(p_path + '01_Source/05_IDHS/' + idhs_release + '/IDHS_enrollments.parquet')\n",
    "idhs_df.PROV_ID = idhs_df.PROV_ID.astype(str)\n",
    "idhs_df.head(2)"
   ]
  },
  {
   "cell_type": "code",
   "execution_count": 0,
   "metadata": {
    "application/vnd.databricks.v1+cell": {
     "inputWidgets": {},
     "nuid": "2dfbe231-282b-4189-9c84-3dfb44ac347f",
     "showTitle": false,
     "title": ""
    }
   },
   "outputs": [
    {
     "data": {
      "text/html": [
       "<style scoped>\n",
       "  .ansiout {\n",
       "    display: block;\n",
       "    unicode-bidi: embed;\n",
       "    white-space: pre-wrap;\n",
       "    word-wrap: break-word;\n",
       "    word-break: break-all;\n",
       "    font-family: \"Source Code Pro\", \"Menlo\", monospace;;\n",
       "    font-size: 13px;\n",
       "    color: #555;\n",
       "    margin-left: 4px;\n",
       "    line-height: 19px;\n",
       "  }\n",
       "</style>\n",
       "<div class=\"ansiout\">Out[8]: </div>"
      ]
     },
     "metadata": {
      "application/vnd.databricks.v1+output": {
       "addedWidgets": {},
       "arguments": {},
       "data": "<div class=\"ansiout\">Out[8]: </div>",
       "datasetInfos": [],
       "removedWidgets": [],
       "type": "html"
      }
     },
     "output_type": "display_data"
    },
    {
     "data": {
      "text/html": [
       "<div>\n",
       "<style scoped>\n",
       "    .dataframe tbody tr th:only-of-type {\n",
       "        vertical-align: middle;\n",
       "    }\n",
       "\n",
       "    .dataframe tbody tr th {\n",
       "        vertical-align: top;\n",
       "    }\n",
       "\n",
       "    .dataframe thead th {\n",
       "        text-align: right;\n",
       "    }\n",
       "</style>\n",
       "<table border=\"1\" class=\"dataframe\">\n",
       "  <thead>\n",
       "    <tr style=\"text-align: right;\">\n",
       "      <th></th>\n",
       "      <th>provider_id</th>\n",
       "      <th>provider_name</th>\n",
       "      <th>dba</th>\n",
       "      <th>address</th>\n",
       "      <th>city</th>\n",
       "      <th>state</th>\n",
       "      <th>atyp</th>\n",
       "      <th>srv</th>\n",
       "      <th>prov_id</th>\n",
       "      <th>age</th>\n",
       "      <th>in_606</th>\n",
       "      <th>not_in_606</th>\n",
       "      <th>ZIP</th>\n",
       "    </tr>\n",
       "  </thead>\n",
       "  <tbody>\n",
       "    <tr>\n",
       "      <th>0</th>\n",
       "      <td>63685400009</td>\n",
       "      <td>CLIFTON KATHY</td>\n",
       "      <td>None</td>\n",
       "      <td>9229 S MARSHFIELD AVE</td>\n",
       "      <td>CHICAGO</td>\n",
       "      <td>IL</td>\n",
       "      <td>SRV</td>\n",
       "      <td>762.0</td>\n",
       "      <td>000063685400009</td>\n",
       "      <td>0</td>\n",
       "      <td>0</td>\n",
       "      <td>0</td>\n",
       "      <td>60620</td>\n",
       "    </tr>\n",
       "    <tr>\n",
       "      <th>1</th>\n",
       "      <td>546460600008</td>\n",
       "      <td>ABC LEARNING CENTER II INC</td>\n",
       "      <td>None</td>\n",
       "      <td>10230 S HALSTED ST</td>\n",
       "      <td>CHICAGO</td>\n",
       "      <td>IL</td>\n",
       "      <td>SRV</td>\n",
       "      <td>760.0</td>\n",
       "      <td>000546460600008</td>\n",
       "      <td>0</td>\n",
       "      <td>3</td>\n",
       "      <td>0</td>\n",
       "      <td>60628</td>\n",
       "    </tr>\n",
       "  </tbody>\n",
       "</table>\n",
       "</div>"
      ]
     },
     "metadata": {
      "application/vnd.databricks.v1+output": {
       "addedWidgets": {},
       "arguments": {},
       "data": "<div>\n<style scoped>\n    .dataframe tbody tr th:only-of-type {\n        vertical-align: middle;\n    }\n\n    .dataframe tbody tr th {\n        vertical-align: top;\n    }\n\n    .dataframe thead th {\n        text-align: right;\n    }\n</style>\n<table border=\"1\" class=\"dataframe\">\n  <thead>\n    <tr style=\"text-align: right;\">\n      <th></th>\n      <th>provider_id</th>\n      <th>provider_name</th>\n      <th>dba</th>\n      <th>address</th>\n      <th>city</th>\n      <th>state</th>\n      <th>atyp</th>\n      <th>srv</th>\n      <th>prov_id</th>\n      <th>age</th>\n      <th>in_606</th>\n      <th>not_in_606</th>\n      <th>ZIP</th>\n    </tr>\n  </thead>\n  <tbody>\n    <tr>\n      <th>0</th>\n      <td>63685400009</td>\n      <td>CLIFTON KATHY</td>\n      <td>None</td>\n      <td>9229 S MARSHFIELD AVE</td>\n      <td>CHICAGO</td>\n      <td>IL</td>\n      <td>SRV</td>\n      <td>762.0</td>\n      <td>000063685400009</td>\n      <td>0</td>\n      <td>0</td>\n      <td>0</td>\n      <td>60620</td>\n    </tr>\n    <tr>\n      <th>1</th>\n      <td>546460600008</td>\n      <td>ABC LEARNING CENTER II INC</td>\n      <td>None</td>\n      <td>10230 S HALSTED ST</td>\n      <td>CHICAGO</td>\n      <td>IL</td>\n      <td>SRV</td>\n      <td>760.0</td>\n      <td>000546460600008</td>\n      <td>0</td>\n      <td>3</td>\n      <td>0</td>\n      <td>60628</td>\n    </tr>\n  </tbody>\n</table>\n</div>",
       "datasetInfos": [],
       "removedWidgets": [],
       "textData": null,
       "type": "htmlSandbox"
      }
     },
     "output_type": "display_data"
    }
   ],
   "source": [
    "# this zip code column will be part of the md5 generation and will be used for duplicates-detection\n",
    "# ensure there are no decimals!\n",
    "idhs_df['ZIP'] = idhs_df['zip'].astype(float).fillna(0.0).astype(int)\n",
    "idhs_df = idhs_df.drop(columns='zip')\n",
    "idhs_df.head(2)"
   ]
  },
  {
   "cell_type": "code",
   "execution_count": 0,
   "metadata": {
    "application/vnd.databricks.v1+cell": {
     "inputWidgets": {},
     "nuid": "46fdfc24-1d47-424e-85bc-34a70d28add1",
     "showTitle": false,
     "title": ""
    }
   },
   "outputs": [
    {
     "data": {
      "text/html": [
       "<style scoped>\n",
       "  .ansiout {\n",
       "    display: block;\n",
       "    unicode-bidi: embed;\n",
       "    white-space: pre-wrap;\n",
       "    word-wrap: break-word;\n",
       "    word-break: break-all;\n",
       "    font-family: \"Source Code Pro\", \"Menlo\", monospace;;\n",
       "    font-size: 13px;\n",
       "    color: #555;\n",
       "    margin-left: 4px;\n",
       "    line-height: 19px;\n",
       "  }\n",
       "</style>\n",
       "<div class=\"ansiout\">Index([&#39;PROV_ID&#39;, &#39;Name&#39;, &#39;DBA&#39;, &#39;ADR&#39;, &#39;CITY&#39;, &#39;ST&#39;, &#39;ATYP&#39;, &#39;PTYP&#39;,\n",
       "       &#39;prov_id&#39;, &#39;age&#39;, &#39;IN 606&#39;, &#39;NOT IN 606&#39;, &#39;ZIP&#39;],\n",
       "      dtype=&#39;object&#39;)\n",
       "Out[9]: PROV_ID       13662\n",
       "Name          13662\n",
       "DBA            3324\n",
       "ADR           13656\n",
       "CITY          13656\n",
       "ST            13656\n",
       "ATYP          13656\n",
       "PTYP          13656\n",
       "prov_id       13662\n",
       "age           13662\n",
       "IN 606        13662\n",
       "NOT IN 606    13662\n",
       "ZIP           13662\n",
       "dtype: int64</div>"
      ]
     },
     "metadata": {
      "application/vnd.databricks.v1+output": {
       "addedWidgets": {},
       "arguments": {},
       "data": "<div class=\"ansiout\">Index([&#39;PROV_ID&#39;, &#39;Name&#39;, &#39;DBA&#39;, &#39;ADR&#39;, &#39;CITY&#39;, &#39;ST&#39;, &#39;ATYP&#39;, &#39;PTYP&#39;,\n       &#39;prov_id&#39;, &#39;age&#39;, &#39;IN 606&#39;, &#39;NOT IN 606&#39;, &#39;ZIP&#39;],\n      dtype=&#39;object&#39;)\nOut[9]: PROV_ID       13662\nName          13662\nDBA            3324\nADR           13656\nCITY          13656\nST            13656\nATYP          13656\nPTYP          13656\nprov_id       13662\nage           13662\nIN 606        13662\nNOT IN 606    13662\nZIP           13662\ndtype: int64</div>",
       "datasetInfos": [],
       "removedWidgets": [],
       "type": "html"
      }
     },
     "output_type": "display_data"
    }
   ],
   "source": [
    "# The column names had spaces. Fixing it here.\n",
    "idhs_df.columns = ['PROV_ID', 'Name', 'DBA', 'ADR', 'CITY', 'ST',  'ATYP', 'PTYP', 'prov_id','age', 'IN 606', 'NOT IN 606', 'ZIP']\n",
    "print(idhs_df.columns)\n",
    "idhs_df.count()"
   ]
  },
  {
   "cell_type": "code",
   "execution_count": 0,
   "metadata": {
    "application/vnd.databricks.v1+cell": {
     "inputWidgets": {},
     "nuid": "9e452d42-3e88-4d3e-8c6f-ed24c4e7f3db",
     "showTitle": false,
     "title": ""
    }
   },
   "outputs": [
    {
     "data": {
      "text/html": [
       "<style scoped>\n",
       "  .ansiout {\n",
       "    display: block;\n",
       "    unicode-bidi: embed;\n",
       "    white-space: pre-wrap;\n",
       "    word-wrap: break-word;\n",
       "    word-break: break-all;\n",
       "    font-family: \"Source Code Pro\", \"Menlo\", monospace;;\n",
       "    font-size: 13px;\n",
       "    color: #555;\n",
       "    margin-left: 4px;\n",
       "    line-height: 19px;\n",
       "  }\n",
       "</style>\n",
       "<div class=\"ansiout\">Children served in Chicago -  37 Children served out of Chicago -  21\n",
       "</div>"
      ]
     },
     "metadata": {
      "application/vnd.databricks.v1+output": {
       "addedWidgets": {},
       "arguments": {},
       "data": "<div class=\"ansiout\">Children served in Chicago -  37 Children served out of Chicago -  21\n</div>",
       "datasetInfos": [],
       "removedWidgets": [],
       "type": "html"
      }
     },
     "output_type": "display_data"
    }
   ],
   "source": [
    "# Check the maximum children count for any provider\n",
    "print('Children served in Chicago - ', idhs_df['IN 606'].max(),'Children served out of Chicago - ', idhs_df['NOT IN 606'].max())"
   ]
  },
  {
   "cell_type": "code",
   "execution_count": 0,
   "metadata": {
    "application/vnd.databricks.v1+cell": {
     "inputWidgets": {},
     "nuid": "5156bb93-43c4-4151-9275-9d3ee9bccd5c",
     "showTitle": false,
     "title": ""
    }
   },
   "outputs": [
    {
     "data": {
      "text/html": [
       "<style scoped>\n",
       "  .ansiout {\n",
       "    display: block;\n",
       "    unicode-bidi: embed;\n",
       "    white-space: pre-wrap;\n",
       "    word-wrap: break-word;\n",
       "    word-break: break-all;\n",
       "    font-family: \"Source Code Pro\", \"Menlo\", monospace;;\n",
       "    font-size: 13px;\n",
       "    color: #555;\n",
       "    margin-left: 4px;\n",
       "    line-height: 19px;\n",
       "  }\n",
       "</style>\n",
       "<div class=\"ansiout\"></div>"
      ]
     },
     "metadata": {
      "application/vnd.databricks.v1+output": {
       "addedWidgets": {},
       "arguments": {},
       "data": "<div class=\"ansiout\"></div>",
       "datasetInfos": [],
       "removedWidgets": [],
       "type": "html"
      }
     },
     "output_type": "display_data"
    }
   ],
   "source": [
    "idhs_tmp1_df = idhs_df[['PROV_ID', 'Name', 'DBA', 'ADR', 'CITY', 'ST', 'ZIP']].copy()\n",
    "format_add_create_md5(idhs_tmp1_df, 'ADR', 'ZIP', 'CITY', 'ST')"
   ]
  },
  {
   "cell_type": "code",
   "execution_count": 0,
   "metadata": {
    "application/vnd.databricks.v1+cell": {
     "inputWidgets": {},
     "nuid": "6afce4a2-4fb3-4f79-b081-5ca625d5b982",
     "showTitle": false,
     "title": ""
    }
   },
   "outputs": [
    {
     "data": {
      "text/html": [
       "<style scoped>\n",
       "  .ansiout {\n",
       "    display: block;\n",
       "    unicode-bidi: embed;\n",
       "    white-space: pre-wrap;\n",
       "    word-wrap: break-word;\n",
       "    word-break: break-all;\n",
       "    font-family: \"Source Code Pro\", \"Menlo\", monospace;;\n",
       "    font-size: 13px;\n",
       "    color: #555;\n",
       "    margin-left: 4px;\n",
       "    line-height: 19px;\n",
       "  }\n",
       "</style>\n",
       "<div class=\"ansiout\">Out[12]: </div>"
      ]
     },
     "metadata": {
      "application/vnd.databricks.v1+output": {
       "addedWidgets": {},
       "arguments": {},
       "data": "<div class=\"ansiout\">Out[12]: </div>",
       "datasetInfos": [],
       "removedWidgets": [],
       "type": "html"
      }
     },
     "output_type": "display_data"
    },
    {
     "data": {
      "text/html": [
       "<div>\n",
       "<style scoped>\n",
       "    .dataframe tbody tr th:only-of-type {\n",
       "        vertical-align: middle;\n",
       "    }\n",
       "\n",
       "    .dataframe tbody tr th {\n",
       "        vertical-align: top;\n",
       "    }\n",
       "\n",
       "    .dataframe thead th {\n",
       "        text-align: right;\n",
       "    }\n",
       "</style>\n",
       "<table border=\"1\" class=\"dataframe\">\n",
       "  <thead>\n",
       "    <tr style=\"text-align: right;\">\n",
       "      <th></th>\n",
       "      <th>PROV_ID</th>\n",
       "      <th>Name</th>\n",
       "      <th>DBA</th>\n",
       "      <th>ADR</th>\n",
       "      <th>CITY</th>\n",
       "      <th>ST</th>\n",
       "      <th>ZIP</th>\n",
       "      <th>street_address_edt</th>\n",
       "      <th>zip_code_edt</th>\n",
       "      <th>city_edt</th>\n",
       "      <th>state_edt</th>\n",
       "      <th>add_zip</th>\n",
       "      <th>md5</th>\n",
       "    </tr>\n",
       "  </thead>\n",
       "  <tbody>\n",
       "    <tr>\n",
       "      <th>0</th>\n",
       "      <td>63685400009</td>\n",
       "      <td>CLIFTON KATHY</td>\n",
       "      <td>None</td>\n",
       "      <td>9229 S MARSHFIELD AVE</td>\n",
       "      <td>CHICAGO</td>\n",
       "      <td>IL</td>\n",
       "      <td>60620</td>\n",
       "      <td>9229 S MARSHFIELD AVE</td>\n",
       "      <td>60620</td>\n",
       "      <td>CHICAGO</td>\n",
       "      <td>IL</td>\n",
       "      <td>9229 S MARSHFIELD AVE60620</td>\n",
       "      <td>03124c3e9c03842a5ebcd66b0a748976</td>\n",
       "    </tr>\n",
       "    <tr>\n",
       "      <th>1</th>\n",
       "      <td>546460600008</td>\n",
       "      <td>ABC LEARNING CENTER II INC</td>\n",
       "      <td>None</td>\n",
       "      <td>10230 S HALSTED ST</td>\n",
       "      <td>CHICAGO</td>\n",
       "      <td>IL</td>\n",
       "      <td>60628</td>\n",
       "      <td>10230 S HALSTED ST</td>\n",
       "      <td>60628</td>\n",
       "      <td>CHICAGO</td>\n",
       "      <td>IL</td>\n",
       "      <td>10230 S HALSTED ST60628</td>\n",
       "      <td>9772733f8ce23343f3f42b24127202b1</td>\n",
       "    </tr>\n",
       "  </tbody>\n",
       "</table>\n",
       "</div>"
      ]
     },
     "metadata": {
      "application/vnd.databricks.v1+output": {
       "addedWidgets": {},
       "arguments": {},
       "data": "<div>\n<style scoped>\n    .dataframe tbody tr th:only-of-type {\n        vertical-align: middle;\n    }\n\n    .dataframe tbody tr th {\n        vertical-align: top;\n    }\n\n    .dataframe thead th {\n        text-align: right;\n    }\n</style>\n<table border=\"1\" class=\"dataframe\">\n  <thead>\n    <tr style=\"text-align: right;\">\n      <th></th>\n      <th>PROV_ID</th>\n      <th>Name</th>\n      <th>DBA</th>\n      <th>ADR</th>\n      <th>CITY</th>\n      <th>ST</th>\n      <th>ZIP</th>\n      <th>street_address_edt</th>\n      <th>zip_code_edt</th>\n      <th>city_edt</th>\n      <th>state_edt</th>\n      <th>add_zip</th>\n      <th>md5</th>\n    </tr>\n  </thead>\n  <tbody>\n    <tr>\n      <th>0</th>\n      <td>63685400009</td>\n      <td>CLIFTON KATHY</td>\n      <td>None</td>\n      <td>9229 S MARSHFIELD AVE</td>\n      <td>CHICAGO</td>\n      <td>IL</td>\n      <td>60620</td>\n      <td>9229 S MARSHFIELD AVE</td>\n      <td>60620</td>\n      <td>CHICAGO</td>\n      <td>IL</td>\n      <td>9229 S MARSHFIELD AVE60620</td>\n      <td>03124c3e9c03842a5ebcd66b0a748976</td>\n    </tr>\n    <tr>\n      <th>1</th>\n      <td>546460600008</td>\n      <td>ABC LEARNING CENTER II INC</td>\n      <td>None</td>\n      <td>10230 S HALSTED ST</td>\n      <td>CHICAGO</td>\n      <td>IL</td>\n      <td>60628</td>\n      <td>10230 S HALSTED ST</td>\n      <td>60628</td>\n      <td>CHICAGO</td>\n      <td>IL</td>\n      <td>10230 S HALSTED ST60628</td>\n      <td>9772733f8ce23343f3f42b24127202b1</td>\n    </tr>\n  </tbody>\n</table>\n</div>",
       "datasetInfos": [],
       "removedWidgets": [],
       "textData": null,
       "type": "htmlSandbox"
      }
     },
     "output_type": "display_data"
    }
   ],
   "source": [
    "idhs_tmp1_df.head(2)"
   ]
  },
  {
   "cell_type": "code",
   "execution_count": 0,
   "metadata": {
    "application/vnd.databricks.v1+cell": {
     "inputWidgets": {},
     "nuid": "0fccab89-c4a8-4b77-9c80-7272f19c9aec",
     "showTitle": false,
     "title": ""
    }
   },
   "outputs": [
    {
     "data": {
      "text/html": [
       "<style scoped>\n",
       "  .ansiout {\n",
       "    display: block;\n",
       "    unicode-bidi: embed;\n",
       "    white-space: pre-wrap;\n",
       "    word-wrap: break-word;\n",
       "    word-break: break-all;\n",
       "    font-family: \"Source Code Pro\", \"Menlo\", monospace;;\n",
       "    font-size: 13px;\n",
       "    color: #555;\n",
       "    margin-left: 4px;\n",
       "    line-height: 19px;\n",
       "  }\n",
       "</style>\n",
       "<div class=\"ansiout\"></div>"
      ]
     },
     "metadata": {
      "application/vnd.databricks.v1+output": {
       "addedWidgets": {},
       "arguments": {},
       "data": "<div class=\"ansiout\"></div>",
       "datasetInfos": [],
       "removedWidgets": [],
       "type": "html"
      }
     },
     "output_type": "display_data"
    }
   ],
   "source": [
    "idhs_tmp1_df.to_parquet(p_path + '01_Source/05_IDHS/' + idhs_release + '/IDHS_enrollments_edt.parquet', index=False)"
   ]
  },
  {
   "cell_type": "markdown",
   "metadata": {
    "application/vnd.databricks.v1+cell": {
     "inputWidgets": {},
     "nuid": "5728e599-7ee6-4fec-9245-557d951f4b2c",
     "showTitle": false,
     "title": ""
    }
   },
   "source": [
    "## DCFS"
   ]
  },
  {
   "cell_type": "code",
   "execution_count": 0,
   "metadata": {
    "application/vnd.databricks.v1+cell": {
     "inputWidgets": {},
     "nuid": "9fa5caec-3f88-4100-8c01-54885e0215e5",
     "showTitle": false,
     "title": ""
    }
   },
   "outputs": [
    {
     "data": {
      "text/html": [
       "<style scoped>\n",
       "  .ansiout {\n",
       "    display: block;\n",
       "    unicode-bidi: embed;\n",
       "    white-space: pre-wrap;\n",
       "    word-wrap: break-word;\n",
       "    word-break: break-all;\n",
       "    font-family: \"Source Code Pro\", \"Menlo\", monospace;;\n",
       "    font-size: 13px;\n",
       "    color: #555;\n",
       "    margin-left: 4px;\n",
       "    line-height: 19px;\n",
       "  }\n",
       "</style>\n",
       "<div class=\"ansiout\">Index([&#39;ProviderID&#39;, &#39;DoingBusinessAs&#39;, &#39;Street&#39;, &#39;City&#39;, &#39;County&#39;, &#39;Zip&#39;,\n",
       "       &#39;Phone&#39;, &#39;FacilityType&#39;, &#39;DayAgeRange&#39;, &#39;NightAgeRange&#39;, &#39;Languages&#39;,\n",
       "       &#39;Language1&#39;, &#39;Language2&#39;, &#39;Language3&#39;, &#39;DayCapacity&#39;, &#39;NightCapacity&#39;,\n",
       "       &#39;Status&#39;, &#39;state&#39;],\n",
       "      dtype=&#39;object&#39;)\n",
       "</div>"
      ]
     },
     "metadata": {
      "application/vnd.databricks.v1+output": {
       "addedWidgets": {},
       "arguments": {},
       "data": "<div class=\"ansiout\">Index([&#39;ProviderID&#39;, &#39;DoingBusinessAs&#39;, &#39;Street&#39;, &#39;City&#39;, &#39;County&#39;, &#39;Zip&#39;,\n       &#39;Phone&#39;, &#39;FacilityType&#39;, &#39;DayAgeRange&#39;, &#39;NightAgeRange&#39;, &#39;Languages&#39;,\n       &#39;Language1&#39;, &#39;Language2&#39;, &#39;Language3&#39;, &#39;DayCapacity&#39;, &#39;NightCapacity&#39;,\n       &#39;Status&#39;, &#39;state&#39;],\n      dtype=&#39;object&#39;)\n</div>",
       "datasetInfos": [],
       "removedWidgets": [],
       "type": "html"
      }
     },
     "output_type": "display_data"
    }
   ],
   "source": [
    "dcfs_df = pd.read_csv(p_path + '01_Source/04_DCFS/' + dcfs_release + '/Daycare Providers.csv')\n",
    "dcfs_df['state'] = 'IL'\n",
    "print(dcfs_df.columns)"
   ]
  },
  {
   "cell_type": "code",
   "execution_count": 0,
   "metadata": {
    "application/vnd.databricks.v1+cell": {
     "inputWidgets": {},
     "nuid": "1ced1533-ccab-4796-9678-b5c05c477b83",
     "showTitle": false,
     "title": ""
    }
   },
   "outputs": [
    {
     "data": {
      "text/html": [
       "<style scoped>\n",
       "  .ansiout {\n",
       "    display: block;\n",
       "    unicode-bidi: embed;\n",
       "    white-space: pre-wrap;\n",
       "    word-wrap: break-word;\n",
       "    word-break: break-all;\n",
       "    font-family: \"Source Code Pro\", \"Menlo\", monospace;;\n",
       "    font-size: 13px;\n",
       "    color: #555;\n",
       "    margin-left: 4px;\n",
       "    line-height: 19px;\n",
       "  }\n",
       "</style>\n",
       "<div class=\"ansiout\"></div>"
      ]
     },
     "metadata": {
      "application/vnd.databricks.v1+output": {
       "addedWidgets": {},
       "arguments": {},
       "data": "<div class=\"ansiout\"></div>",
       "datasetInfos": [],
       "removedWidgets": [],
       "type": "html"
      }
     },
     "output_type": "display_data"
    }
   ],
   "source": [
    "dcfs_tmp1_df = dcfs_df[['ProviderID', 'DoingBusinessAs', 'Street', 'City', 'County', 'Zip', 'state']].copy()\n",
    "format_add_create_md5(dcfs_tmp1_df, 'Street', 'Zip', 'City', 'state')"
   ]
  },
  {
   "cell_type": "code",
   "execution_count": 0,
   "metadata": {
    "application/vnd.databricks.v1+cell": {
     "inputWidgets": {},
     "nuid": "2547a209-b514-48c2-aa4c-10f1c9a1ceeb",
     "showTitle": false,
     "title": ""
    }
   },
   "outputs": [
    {
     "data": {
      "text/html": [
       "<style scoped>\n",
       "  .ansiout {\n",
       "    display: block;\n",
       "    unicode-bidi: embed;\n",
       "    white-space: pre-wrap;\n",
       "    word-wrap: break-word;\n",
       "    word-break: break-all;\n",
       "    font-family: \"Source Code Pro\", \"Menlo\", monospace;;\n",
       "    font-size: 13px;\n",
       "    color: #555;\n",
       "    margin-left: 4px;\n",
       "    line-height: 19px;\n",
       "  }\n",
       "</style>\n",
       "<div class=\"ansiout\">Out[15]: </div>"
      ]
     },
     "metadata": {
      "application/vnd.databricks.v1+output": {
       "addedWidgets": {},
       "arguments": {},
       "data": "<div class=\"ansiout\">Out[15]: </div>",
       "datasetInfos": [],
       "removedWidgets": [],
       "type": "html"
      }
     },
     "output_type": "display_data"
    },
    {
     "data": {
      "text/html": [
       "<div>\n",
       "<style scoped>\n",
       "    .dataframe tbody tr th:only-of-type {\n",
       "        vertical-align: middle;\n",
       "    }\n",
       "\n",
       "    .dataframe tbody tr th {\n",
       "        vertical-align: top;\n",
       "    }\n",
       "\n",
       "    .dataframe thead th {\n",
       "        text-align: right;\n",
       "    }\n",
       "</style>\n",
       "<table border=\"1\" class=\"dataframe\">\n",
       "  <thead>\n",
       "    <tr style=\"text-align: right;\">\n",
       "      <th></th>\n",
       "      <th>ProviderID</th>\n",
       "      <th>DoingBusinessAs</th>\n",
       "      <th>Street</th>\n",
       "      <th>City</th>\n",
       "      <th>County</th>\n",
       "      <th>Zip</th>\n",
       "      <th>state</th>\n",
       "      <th>street_address_edt</th>\n",
       "      <th>zip_code_edt</th>\n",
       "      <th>city_edt</th>\n",
       "      <th>state_edt</th>\n",
       "      <th>add_zip</th>\n",
       "      <th>md5</th>\n",
       "    </tr>\n",
       "  </thead>\n",
       "  <tbody>\n",
       "    <tr>\n",
       "      <th>0</th>\n",
       "      <td>541458</td>\n",
       "      <td>ESSEX, LASONDRA</td>\n",
       "      <td>12118 S EMERALD AVE</td>\n",
       "      <td>CHICAGO</td>\n",
       "      <td>COOK</td>\n",
       "      <td>60628</td>\n",
       "      <td>IL</td>\n",
       "      <td>12118 S EMERALD AVE</td>\n",
       "      <td>60628</td>\n",
       "      <td>CHICAGO</td>\n",
       "      <td>IL</td>\n",
       "      <td>12118 S EMERALD AVE60628</td>\n",
       "      <td>76915b12020be578096f4dbc3e0abe51</td>\n",
       "    </tr>\n",
       "    <tr>\n",
       "      <th>1</th>\n",
       "      <td>542464</td>\n",
       "      <td>REED, JENITA V</td>\n",
       "      <td>14137 S CALHOUN AVE</td>\n",
       "      <td>CHICAGO</td>\n",
       "      <td>COOK</td>\n",
       "      <td>60633</td>\n",
       "      <td>IL</td>\n",
       "      <td>14137 S CALHOUN AVE</td>\n",
       "      <td>60633</td>\n",
       "      <td>CHICAGO</td>\n",
       "      <td>IL</td>\n",
       "      <td>14137 S CALHOUN AVE60633</td>\n",
       "      <td>8097c6aabf2e9474535095e6c164be78</td>\n",
       "    </tr>\n",
       "  </tbody>\n",
       "</table>\n",
       "</div>"
      ]
     },
     "metadata": {
      "application/vnd.databricks.v1+output": {
       "addedWidgets": {},
       "arguments": {},
       "data": "<div>\n<style scoped>\n    .dataframe tbody tr th:only-of-type {\n        vertical-align: middle;\n    }\n\n    .dataframe tbody tr th {\n        vertical-align: top;\n    }\n\n    .dataframe thead th {\n        text-align: right;\n    }\n</style>\n<table border=\"1\" class=\"dataframe\">\n  <thead>\n    <tr style=\"text-align: right;\">\n      <th></th>\n      <th>ProviderID</th>\n      <th>DoingBusinessAs</th>\n      <th>Street</th>\n      <th>City</th>\n      <th>County</th>\n      <th>Zip</th>\n      <th>state</th>\n      <th>street_address_edt</th>\n      <th>zip_code_edt</th>\n      <th>city_edt</th>\n      <th>state_edt</th>\n      <th>add_zip</th>\n      <th>md5</th>\n    </tr>\n  </thead>\n  <tbody>\n    <tr>\n      <th>0</th>\n      <td>541458</td>\n      <td>ESSEX, LASONDRA</td>\n      <td>12118 S EMERALD AVE</td>\n      <td>CHICAGO</td>\n      <td>COOK</td>\n      <td>60628</td>\n      <td>IL</td>\n      <td>12118 S EMERALD AVE</td>\n      <td>60628</td>\n      <td>CHICAGO</td>\n      <td>IL</td>\n      <td>12118 S EMERALD AVE60628</td>\n      <td>76915b12020be578096f4dbc3e0abe51</td>\n    </tr>\n    <tr>\n      <th>1</th>\n      <td>542464</td>\n      <td>REED, JENITA V</td>\n      <td>14137 S CALHOUN AVE</td>\n      <td>CHICAGO</td>\n      <td>COOK</td>\n      <td>60633</td>\n      <td>IL</td>\n      <td>14137 S CALHOUN AVE</td>\n      <td>60633</td>\n      <td>CHICAGO</td>\n      <td>IL</td>\n      <td>14137 S CALHOUN AVE60633</td>\n      <td>8097c6aabf2e9474535095e6c164be78</td>\n    </tr>\n  </tbody>\n</table>\n</div>",
       "datasetInfos": [],
       "removedWidgets": [],
       "textData": null,
       "type": "htmlSandbox"
      }
     },
     "output_type": "display_data"
    }
   ],
   "source": [
    "dcfs_tmp1_df.head(2)"
   ]
  },
  {
   "cell_type": "code",
   "execution_count": 0,
   "metadata": {
    "application/vnd.databricks.v1+cell": {
     "inputWidgets": {},
     "nuid": "006755d8-160f-486b-9fbf-7ee471cc1c21",
     "showTitle": false,
     "title": ""
    }
   },
   "outputs": [
    {
     "data": {
      "text/html": [
       "<style scoped>\n",
       "  .ansiout {\n",
       "    display: block;\n",
       "    unicode-bidi: embed;\n",
       "    white-space: pre-wrap;\n",
       "    word-wrap: break-word;\n",
       "    word-break: break-all;\n",
       "    font-family: \"Source Code Pro\", \"Menlo\", monospace;;\n",
       "    font-size: 13px;\n",
       "    color: #555;\n",
       "    margin-left: 4px;\n",
       "    line-height: 19px;\n",
       "  }\n",
       "</style>\n",
       "<div class=\"ansiout\"></div>"
      ]
     },
     "metadata": {
      "application/vnd.databricks.v1+output": {
       "addedWidgets": {},
       "arguments": {},
       "data": "<div class=\"ansiout\"></div>",
       "datasetInfos": [],
       "removedWidgets": [],
       "type": "html"
      }
     },
     "output_type": "display_data"
    }
   ],
   "source": [
    "dcfs_tmp1_df.to_csv(p_path + '01_Source/04_DCFS/' + dcfs_release + '/Daycare Providers_edt.csv', index=False)\n",
    "dcfs_tmp1_df.to_parquet(p_path + '01_Source/04_DCFS/' + dcfs_release + '/Daycare Providers_edt.parquet', index=False)"
   ]
  },
  {
   "cell_type": "markdown",
   "metadata": {
    "application/vnd.databricks.v1+cell": {
     "inputWidgets": {},
     "nuid": "6d791505-bf52-4c07-bb20-26b8f5a6a5af",
     "showTitle": false,
     "title": ""
    }
   },
   "source": [
    "## COPA"
   ]
  },
  {
   "cell_type": "markdown",
   "metadata": {
    "application/vnd.databricks.v1+cell": {
     "inputWidgets": {},
     "nuid": "eace9a07-0777-4dc1-a976-2be8c6987b39",
     "showTitle": false,
     "title": ""
    }
   },
   "source": [
    "### COPA Site"
   ]
  },
  {
   "cell_type": "code",
   "execution_count": 0,
   "metadata": {
    "application/vnd.databricks.v1+cell": {
     "inputWidgets": {},
     "nuid": "59d95715-464a-4f86-93f4-308e696f82e0",
     "showTitle": false,
     "title": ""
    }
   },
   "outputs": [
    {
     "data": {
      "text/html": [
       "<style scoped>\n",
       "  .ansiout {\n",
       "    display: block;\n",
       "    unicode-bidi: embed;\n",
       "    white-space: pre-wrap;\n",
       "    word-wrap: break-word;\n",
       "    word-break: break-all;\n",
       "    font-family: \"Source Code Pro\", \"Menlo\", monospace;;\n",
       "    font-size: 13px;\n",
       "    color: #555;\n",
       "    margin-left: 4px;\n",
       "    line-height: 19px;\n",
       "  }\n",
       "</style>\n",
       "<div class=\"ansiout\">Index([&#39;name&#39;, &#39;ID&#39;, &#39;agencyID&#39;, &#39;address&#39;, &#39;city&#39;, &#39;state&#39;, &#39;zip&#39;, &#39;phone&#39;,\n",
       "       &#39;directorFirst&#39;, &#39;directorLast&#39;, &#39;totalStaff&#39;, &#39;numberOfClasses&#39;,\n",
       "       &#39;licenseNumber&#39;, &#39;expiration&#39;, &#39;centerType&#39;, &#39;NRSFirst&#39;, &#39;NRSLast&#39;,\n",
       "       &#39;NRSphone&#39;, &#39;NRSemail&#39;, &#39;centerPartner&#39;, &#39;centerID&#39;, &#39;SSN&#39;, &#39;FEIN&#39;,\n",
       "       &#39;GovtUnitCode&#39;, &#39;LicenseCapacity&#39;, &#39;birthdate&#39;, &#39;active&#39;,\n",
       "       &#39;otherAddress&#39;, &#39;otherCity&#39;, &#39;otherState&#39;, &#39;otherZip&#39;, &#39;phoneExt&#39;,\n",
       "       &#39;fax&#39;, &#39;email&#39;, &#39;schoolDistrict1&#39;, &#39;schoolDistrict2&#39;, &#39;schoolDistrict3&#39;,\n",
       "       &#39;qualityApproval&#39;, &#39;coordinator&#39;, &#39;licencingSpec&#39;, &#39;annualDays&#39;,\n",
       "       &#39;hrsPerDay&#39;, &#39;countyID&#39;, &#39;licenseNumber2&#39;, &#39;licenseNumber3&#39;,\n",
       "       &#39;expiration2&#39;, &#39;expiration3&#39;, &#39;lastUpdated&#39;, &#39;comments&#39;, &#39;dayCare&#39;,\n",
       "       &#39;affiliation&#39;, &#39;geographic&#39;, &#39;qualityRatingScore&#39;, &#39;siteCode&#39;,\n",
       "       &#39;sitesSchoolDistrict&#39;, &#39;regionID&#39;, &#39;coveredZipcodeID&#39;, &#39;acceptCAP&#39;,\n",
       "       &#39;accreditation&#39;, &#39;ageGradeServed&#39;, &#39;ageServed&#39;, &#39;fromOperHrs&#39;, &#39;offHS&#39;,\n",
       "       &#39;offHomeVisit&#39;, &#39;offProgDay&#39;, &#39;offProgYear&#39;, &#39;otherFeatures&#39;,\n",
       "       &#39;progLang&#39;, &#39;progType&#39;, &#39;qualityRate&#39;, &#39;toOperHrs&#39;, &#39;websiteURL&#39;,\n",
       "       &#39;universalApplication&#39;, &#39;centerDescription&#39;, &#39;centerDescriptionSpanish&#39;,\n",
       "       &#39;neighborhoodID&#39;, &#39;geocodeCoordinates&#39;, &#39;offProgWeek&#39;, &#39;offEHS&#39;,\n",
       "       &#39;CELID&#39;, &#39;userID&#39;, &#39;siteAkaName&#39;, &#39;displayOnCEL&#39;,\n",
       "       &#39;fundedAdditional1Label&#39;, &#39;fundedAdditional2Label&#39;,\n",
       "       &#39;fundedAdditional3Label&#39;, &#39;akaCenterAddress&#39;, &#39;akaCenterCity&#39;,\n",
       "       &#39;akaCenterState&#39;, &#39;akaCenterZip&#39;, &#39;akaCenterEmail&#39;, &#39;akaCenterPhone&#39;,\n",
       "       &#39;akaCenterURL&#39;],\n",
       "      dtype=&#39;object&#39;)\n",
       "</div>"
      ]
     },
     "metadata": {
      "application/vnd.databricks.v1+output": {
       "addedWidgets": {},
       "arguments": {},
       "data": "<div class=\"ansiout\">Index([&#39;name&#39;, &#39;ID&#39;, &#39;agencyID&#39;, &#39;address&#39;, &#39;city&#39;, &#39;state&#39;, &#39;zip&#39;, &#39;phone&#39;,\n       &#39;directorFirst&#39;, &#39;directorLast&#39;, &#39;totalStaff&#39;, &#39;numberOfClasses&#39;,\n       &#39;licenseNumber&#39;, &#39;expiration&#39;, &#39;centerType&#39;, &#39;NRSFirst&#39;, &#39;NRSLast&#39;,\n       &#39;NRSphone&#39;, &#39;NRSemail&#39;, &#39;centerPartner&#39;, &#39;centerID&#39;, &#39;SSN&#39;, &#39;FEIN&#39;,\n       &#39;GovtUnitCode&#39;, &#39;LicenseCapacity&#39;, &#39;birthdate&#39;, &#39;active&#39;,\n       &#39;otherAddress&#39;, &#39;otherCity&#39;, &#39;otherState&#39;, &#39;otherZip&#39;, &#39;phoneExt&#39;,\n       &#39;fax&#39;, &#39;email&#39;, &#39;schoolDistrict1&#39;, &#39;schoolDistrict2&#39;, &#39;schoolDistrict3&#39;,\n       &#39;qualityApproval&#39;, &#39;coordinator&#39;, &#39;licencingSpec&#39;, &#39;annualDays&#39;,\n       &#39;hrsPerDay&#39;, &#39;countyID&#39;, &#39;licenseNumber2&#39;, &#39;licenseNumber3&#39;,\n       &#39;expiration2&#39;, &#39;expiration3&#39;, &#39;lastUpdated&#39;, &#39;comments&#39;, &#39;dayCare&#39;,\n       &#39;affiliation&#39;, &#39;geographic&#39;, &#39;qualityRatingScore&#39;, &#39;siteCode&#39;,\n       &#39;sitesSchoolDistrict&#39;, &#39;regionID&#39;, &#39;coveredZipcodeID&#39;, &#39;acceptCAP&#39;,\n       &#39;accreditation&#39;, &#39;ageGradeServed&#39;, &#39;ageServed&#39;, &#39;fromOperHrs&#39;, &#39;offHS&#39;,\n       &#39;offHomeVisit&#39;, &#39;offProgDay&#39;, &#39;offProgYear&#39;, &#39;otherFeatures&#39;,\n       &#39;progLang&#39;, &#39;progType&#39;, &#39;qualityRate&#39;, &#39;toOperHrs&#39;, &#39;websiteURL&#39;,\n       &#39;universalApplication&#39;, &#39;centerDescription&#39;, &#39;centerDescriptionSpanish&#39;,\n       &#39;neighborhoodID&#39;, &#39;geocodeCoordinates&#39;, &#39;offProgWeek&#39;, &#39;offEHS&#39;,\n       &#39;CELID&#39;, &#39;userID&#39;, &#39;siteAkaName&#39;, &#39;displayOnCEL&#39;,\n       &#39;fundedAdditional1Label&#39;, &#39;fundedAdditional2Label&#39;,\n       &#39;fundedAdditional3Label&#39;, &#39;akaCenterAddress&#39;, &#39;akaCenterCity&#39;,\n       &#39;akaCenterState&#39;, &#39;akaCenterZip&#39;, &#39;akaCenterEmail&#39;, &#39;akaCenterPhone&#39;,\n       &#39;akaCenterURL&#39;],\n      dtype=&#39;object&#39;)\n</div>",
       "datasetInfos": [],
       "removedWidgets": [],
       "type": "html"
      }
     },
     "output_type": "display_data"
    }
   ],
   "source": [
    "copa_site_df = pd.read_parquet(p_path + '01_Source/02_COPA/' + copa_release + '/site')\n",
    "copa_site_df['city'] = 'Chicago'\n",
    "print(copa_site_df.columns)"
   ]
  },
  {
   "cell_type": "code",
   "execution_count": 0,
   "metadata": {
    "application/vnd.databricks.v1+cell": {
     "inputWidgets": {},
     "nuid": "d2a6d6ca-9a68-4c84-9e39-3b2ed6e79f6c",
     "showTitle": false,
     "title": ""
    }
   },
   "outputs": [
    {
     "data": {
      "text/html": [
       "<style scoped>\n",
       "  .ansiout {\n",
       "    display: block;\n",
       "    unicode-bidi: embed;\n",
       "    white-space: pre-wrap;\n",
       "    word-wrap: break-word;\n",
       "    word-break: break-all;\n",
       "    font-family: \"Source Code Pro\", \"Menlo\", monospace;;\n",
       "    font-size: 13px;\n",
       "    color: #555;\n",
       "    margin-left: 4px;\n",
       "    line-height: 19px;\n",
       "  }\n",
       "</style>\n",
       "<div class=\"ansiout\"></div>"
      ]
     },
     "metadata": {
      "application/vnd.databricks.v1+output": {
       "addedWidgets": {},
       "arguments": {},
       "data": "<div class=\"ansiout\"></div>",
       "datasetInfos": [],
       "removedWidgets": [],
       "type": "html"
      }
     },
     "output_type": "display_data"
    }
   ],
   "source": [
    "copa_site_tmp1_df = copa_site_df[['name', 'ID', 'address', 'city', 'state', 'zip']].copy()\n",
    "copa_site_tmp1_df = copa_site_tmp1_df.assign(new_zip = lambda x: x['zip'].fillna(0).astype(int).astype(str))\n",
    "format_add_create_md5(copa_site_tmp1_df, 'address', 'new_zip', 'city', 'state')"
   ]
  },
  {
   "cell_type": "code",
   "execution_count": 0,
   "metadata": {
    "application/vnd.databricks.v1+cell": {
     "inputWidgets": {},
     "nuid": "cbde6714-b72a-469d-a3ce-7ed33b789f2c",
     "showTitle": false,
     "title": ""
    }
   },
   "outputs": [
    {
     "data": {
      "text/html": [
       "<style scoped>\n",
       "  .ansiout {\n",
       "    display: block;\n",
       "    unicode-bidi: embed;\n",
       "    white-space: pre-wrap;\n",
       "    word-wrap: break-word;\n",
       "    word-break: break-all;\n",
       "    font-family: \"Source Code Pro\", \"Menlo\", monospace;;\n",
       "    font-size: 13px;\n",
       "    color: #555;\n",
       "    margin-left: 4px;\n",
       "    line-height: 19px;\n",
       "  }\n",
       "</style>\n",
       "<div class=\"ansiout\">Out[18]: </div>"
      ]
     },
     "metadata": {
      "application/vnd.databricks.v1+output": {
       "addedWidgets": {},
       "arguments": {},
       "data": "<div class=\"ansiout\">Out[18]: </div>",
       "datasetInfos": [],
       "removedWidgets": [],
       "type": "html"
      }
     },
     "output_type": "display_data"
    },
    {
     "data": {
      "text/html": [
       "<div>\n",
       "<style scoped>\n",
       "    .dataframe tbody tr th:only-of-type {\n",
       "        vertical-align: middle;\n",
       "    }\n",
       "\n",
       "    .dataframe tbody tr th {\n",
       "        vertical-align: top;\n",
       "    }\n",
       "\n",
       "    .dataframe thead th {\n",
       "        text-align: right;\n",
       "    }\n",
       "</style>\n",
       "<table border=\"1\" class=\"dataframe\">\n",
       "  <thead>\n",
       "    <tr style=\"text-align: right;\">\n",
       "      <th></th>\n",
       "      <th>name</th>\n",
       "      <th>ID</th>\n",
       "      <th>address</th>\n",
       "      <th>city</th>\n",
       "      <th>state</th>\n",
       "      <th>zip</th>\n",
       "      <th>new_zip</th>\n",
       "      <th>street_address_edt</th>\n",
       "      <th>zip_code_edt</th>\n",
       "      <th>city_edt</th>\n",
       "      <th>state_edt</th>\n",
       "      <th>add_zip</th>\n",
       "      <th>md5</th>\n",
       "    </tr>\n",
       "  </thead>\n",
       "  <tbody>\n",
       "    <tr>\n",
       "      <th>0</th>\n",
       "      <td>Red South</td>\n",
       "      <td>1</td>\n",
       "      <td>1615 W. Chicago</td>\n",
       "      <td>Chicago</td>\n",
       "      <td>IL</td>\n",
       "      <td>60622</td>\n",
       "      <td>60622</td>\n",
       "      <td>1615 W. CHICAGO</td>\n",
       "      <td>60622</td>\n",
       "      <td>CHICAGO</td>\n",
       "      <td>IL</td>\n",
       "      <td>1615 W. CHICAGO60622</td>\n",
       "      <td>16a5f49ab83a3e153925fc32b4924025</td>\n",
       "    </tr>\n",
       "    <tr>\n",
       "      <th>1</th>\n",
       "      <td>ZION HILL MISS. BAPTIST CHURCH-DC</td>\n",
       "      <td>3</td>\n",
       "      <td>1460 W. 78th St.</td>\n",
       "      <td>Chicago</td>\n",
       "      <td>IL</td>\n",
       "      <td>60620</td>\n",
       "      <td>60620</td>\n",
       "      <td>1460 W. 78TH ST.</td>\n",
       "      <td>60620</td>\n",
       "      <td>CHICAGO</td>\n",
       "      <td>IL</td>\n",
       "      <td>1460 W. 78TH ST.60620</td>\n",
       "      <td>fe46ec0d3bf9ea199d0fe5378e6c864a</td>\n",
       "    </tr>\n",
       "  </tbody>\n",
       "</table>\n",
       "</div>"
      ]
     },
     "metadata": {
      "application/vnd.databricks.v1+output": {
       "addedWidgets": {},
       "arguments": {},
       "data": "<div>\n<style scoped>\n    .dataframe tbody tr th:only-of-type {\n        vertical-align: middle;\n    }\n\n    .dataframe tbody tr th {\n        vertical-align: top;\n    }\n\n    .dataframe thead th {\n        text-align: right;\n    }\n</style>\n<table border=\"1\" class=\"dataframe\">\n  <thead>\n    <tr style=\"text-align: right;\">\n      <th></th>\n      <th>name</th>\n      <th>ID</th>\n      <th>address</th>\n      <th>city</th>\n      <th>state</th>\n      <th>zip</th>\n      <th>new_zip</th>\n      <th>street_address_edt</th>\n      <th>zip_code_edt</th>\n      <th>city_edt</th>\n      <th>state_edt</th>\n      <th>add_zip</th>\n      <th>md5</th>\n    </tr>\n  </thead>\n  <tbody>\n    <tr>\n      <th>0</th>\n      <td>Red South</td>\n      <td>1</td>\n      <td>1615 W. Chicago</td>\n      <td>Chicago</td>\n      <td>IL</td>\n      <td>60622</td>\n      <td>60622</td>\n      <td>1615 W. CHICAGO</td>\n      <td>60622</td>\n      <td>CHICAGO</td>\n      <td>IL</td>\n      <td>1615 W. CHICAGO60622</td>\n      <td>16a5f49ab83a3e153925fc32b4924025</td>\n    </tr>\n    <tr>\n      <th>1</th>\n      <td>ZION HILL MISS. BAPTIST CHURCH-DC</td>\n      <td>3</td>\n      <td>1460 W. 78th St.</td>\n      <td>Chicago</td>\n      <td>IL</td>\n      <td>60620</td>\n      <td>60620</td>\n      <td>1460 W. 78TH ST.</td>\n      <td>60620</td>\n      <td>CHICAGO</td>\n      <td>IL</td>\n      <td>1460 W. 78TH ST.60620</td>\n      <td>fe46ec0d3bf9ea199d0fe5378e6c864a</td>\n    </tr>\n  </tbody>\n</table>\n</div>",
       "datasetInfos": [],
       "removedWidgets": [],
       "textData": null,
       "type": "htmlSandbox"
      }
     },
     "output_type": "display_data"
    }
   ],
   "source": [
    "copa_site_tmp1_df.head(2)"
   ]
  },
  {
   "cell_type": "code",
   "execution_count": 0,
   "metadata": {
    "application/vnd.databricks.v1+cell": {
     "inputWidgets": {},
     "nuid": "d1d2a13a-3856-4a13-bd26-541c74225aa5",
     "showTitle": false,
     "title": ""
    }
   },
   "outputs": [
    {
     "data": {
      "text/html": [
       "<style scoped>\n",
       "  .ansiout {\n",
       "    display: block;\n",
       "    unicode-bidi: embed;\n",
       "    white-space: pre-wrap;\n",
       "    word-wrap: break-word;\n",
       "    word-break: break-all;\n",
       "    font-family: \"Source Code Pro\", \"Menlo\", monospace;;\n",
       "    font-size: 13px;\n",
       "    color: #555;\n",
       "    margin-left: 4px;\n",
       "    line-height: 19px;\n",
       "  }\n",
       "</style>\n",
       "<div class=\"ansiout\"></div>"
      ]
     },
     "metadata": {
      "application/vnd.databricks.v1+output": {
       "addedWidgets": {},
       "arguments": {},
       "data": "<div class=\"ansiout\"></div>",
       "datasetInfos": [],
       "removedWidgets": [],
       "type": "html"
      }
     },
     "output_type": "display_data"
    }
   ],
   "source": [
    "copa_site_tmp1_df.to_csv(p_path + '01_Source/02_COPA/' + copa_release + '/site_edt.csv', index=False)\n",
    "copa_site_tmp1_df.to_parquet(p_path + '01_Source/02_COPA/' + copa_release + '/site_edt.parquet', index=False)"
   ]
  },
  {
   "cell_type": "markdown",
   "metadata": {
    "application/vnd.databricks.v1+cell": {
     "inputWidgets": {},
     "nuid": "fdf515ce-7b2d-4c73-b80a-40fbaa645180",
     "showTitle": false,
     "title": ""
    }
   },
   "source": [
    "### COPA Child-Family"
   ]
  },
  {
   "cell_type": "code",
   "execution_count": 0,
   "metadata": {
    "application/vnd.databricks.v1+cell": {
     "inputWidgets": {},
     "nuid": "71a7425d-2dcd-408d-87df-a6da91582379",
     "showTitle": false,
     "title": ""
    }
   },
   "outputs": [
    {
     "data": {
      "text/html": [
       "<style scoped>\n",
       "  .ansiout {\n",
       "    display: block;\n",
       "    unicode-bidi: embed;\n",
       "    white-space: pre-wrap;\n",
       "    word-wrap: break-word;\n",
       "    word-break: break-all;\n",
       "    font-family: \"Source Code Pro\", \"Menlo\", monospace;;\n",
       "    font-size: 13px;\n",
       "    color: #555;\n",
       "    margin-left: 4px;\n",
       "    line-height: 19px;\n",
       "  }\n",
       "</style>\n",
       "<div class=\"ansiout\">Index([&#39;last&#39;, &#39;first&#39;, &#39;middle&#39;, &#39;birthdate&#39;, &#39;gender&#39;, &#39;primaryLanguage&#39;,\n",
       "       &#39;otherLanguage&#39;, &#39;ethnicity&#39;, &#39;enrollmentDate&#39;,\n",
       "       &#39;specialEducationServices&#39;,\n",
       "       ...\n",
       "       &#39;LangSurveyDate&#39;, &#39;preIPTScore&#39;, &#39;contractedCopay&#39;, &#39;subsidySource&#39;,\n",
       "       &#39;subsidyStartDate&#39;, &#39;totHrsGrantCentMo&#39;, &#39;chdParYouthCare&#39;,\n",
       "       &#39;chdWelfarePastYr&#39;, &#39;earlyTwo&#39;, &#39;suffix&#39;],\n",
       "      dtype=&#39;object&#39;, length=102)\n",
       "Index([&#39;FID&#39;, &#39;LName&#39;, &#39;FName&#39;, &#39;gender&#39;, &#39;SSN&#39;, &#39;birthDate&#39;, &#39;enrollDate&#39;,\n",
       "       &#39;educationLevel&#39;, &#39;educationID&#39;, &#39;employmentStatus&#39;,\n",
       "       ...\n",
       "       &#39;OtherID2&#39;, &#39;OtherID3&#39;, &#39;addressValidityStatus&#39;, &#39;WARD&#39;, &#39;comAreaName&#39;,\n",
       "       &#39;ZIP5&#39;, &#39;CPSParent&#39;, &#39;applComplName&#39;, &#39;suffix&#39;, &#39;SSuffix&#39;],\n",
       "      dtype=&#39;object&#39;, length=195)\n",
       "</div>"
      ]
     },
     "metadata": {
      "application/vnd.databricks.v1+output": {
       "addedWidgets": {},
       "arguments": {},
       "data": "<div class=\"ansiout\">Index([&#39;last&#39;, &#39;first&#39;, &#39;middle&#39;, &#39;birthdate&#39;, &#39;gender&#39;, &#39;primaryLanguage&#39;,\n       &#39;otherLanguage&#39;, &#39;ethnicity&#39;, &#39;enrollmentDate&#39;,\n       &#39;specialEducationServices&#39;,\n       ...\n       &#39;LangSurveyDate&#39;, &#39;preIPTScore&#39;, &#39;contractedCopay&#39;, &#39;subsidySource&#39;,\n       &#39;subsidyStartDate&#39;, &#39;totHrsGrantCentMo&#39;, &#39;chdParYouthCare&#39;,\n       &#39;chdWelfarePastYr&#39;, &#39;earlyTwo&#39;, &#39;suffix&#39;],\n      dtype=&#39;object&#39;, length=102)\nIndex([&#39;FID&#39;, &#39;LName&#39;, &#39;FName&#39;, &#39;gender&#39;, &#39;SSN&#39;, &#39;birthDate&#39;, &#39;enrollDate&#39;,\n       &#39;educationLevel&#39;, &#39;educationID&#39;, &#39;employmentStatus&#39;,\n       ...\n       &#39;OtherID2&#39;, &#39;OtherID3&#39;, &#39;addressValidityStatus&#39;, &#39;WARD&#39;, &#39;comAreaName&#39;,\n       &#39;ZIP5&#39;, &#39;CPSParent&#39;, &#39;applComplName&#39;, &#39;suffix&#39;, &#39;SSuffix&#39;],\n      dtype=&#39;object&#39;, length=195)\n</div>",
       "datasetInfos": [],
       "removedWidgets": [],
       "type": "html"
      }
     },
     "output_type": "display_data"
    }
   ],
   "source": [
    "copa_child_df = pd.read_parquet(p_path + '01_Source/02_COPA/' + copa_release + '/child')\n",
    "print(copa_child_df.columns)\n",
    "copa_family_df = pd.read_parquet(p_path + '01_Source/02_COPA/' + copa_release + '/family')\n",
    "print(copa_family_df.columns)"
   ]
  },
  {
   "cell_type": "code",
   "execution_count": 0,
   "metadata": {
    "application/vnd.databricks.v1+cell": {
     "inputWidgets": {},
     "nuid": "4124eb5e-8bec-4d2e-bc7a-e0bd93667fa1",
     "showTitle": false,
     "title": ""
    }
   },
   "outputs": [
    {
     "data": {
      "text/html": [
       "<style scoped>\n",
       "  .ansiout {\n",
       "    display: block;\n",
       "    unicode-bidi: embed;\n",
       "    white-space: pre-wrap;\n",
       "    word-wrap: break-word;\n",
       "    word-break: break-all;\n",
       "    font-family: \"Source Code Pro\", \"Menlo\", monospace;;\n",
       "    font-size: 13px;\n",
       "    color: #555;\n",
       "    margin-left: 4px;\n",
       "    line-height: 19px;\n",
       "  }\n",
       "</style>\n",
       "<div class=\"ansiout\"></div>"
      ]
     },
     "metadata": {
      "application/vnd.databricks.v1+output": {
       "addedWidgets": {},
       "arguments": {},
       "data": "<div class=\"ansiout\"></div>",
       "datasetInfos": [],
       "removedWidgets": [],
       "type": "html"
      }
     },
     "output_type": "display_data"
    }
   ],
   "source": [
    "copa_child_family_df = copa_child_df.merge(copa_family_df, left_on='familyID', right_on='FID')\n",
    "copa_child_family_df = copa_child_family_df.loc[copa_child_family_df['status']=='enrolled', ['ID', 'city', 'state', 'zipCode', 'addressNumber', 'addressDir', 'address', 'addressType']]\\\n",
    "                                           .reset_index()\\\n",
    "                                           .drop(columns='index')"
   ]
  },
  {
   "cell_type": "code",
   "execution_count": 0,
   "metadata": {
    "application/vnd.databricks.v1+cell": {
     "inputWidgets": {},
     "nuid": "0d152bdb-9016-43b5-9095-9bebb8412ec7",
     "showTitle": false,
     "title": ""
    }
   },
   "outputs": [
    {
     "data": {
      "text/html": [
       "<style scoped>\n",
       "  .ansiout {\n",
       "    display: block;\n",
       "    unicode-bidi: embed;\n",
       "    white-space: pre-wrap;\n",
       "    word-wrap: break-word;\n",
       "    word-break: break-all;\n",
       "    font-family: \"Source Code Pro\", \"Menlo\", monospace;;\n",
       "    font-size: 13px;\n",
       "    color: #555;\n",
       "    margin-left: 4px;\n",
       "    line-height: 19px;\n",
       "  }\n",
       "</style>\n",
       "<div class=\"ansiout\"></div>"
      ]
     },
     "metadata": {
      "application/vnd.databricks.v1+output": {
       "addedWidgets": {},
       "arguments": {},
       "data": "<div class=\"ansiout\"></div>",
       "datasetInfos": [],
       "removedWidgets": [],
       "type": "html"
      }
     },
     "output_type": "display_data"
    }
   ],
   "source": [
    "copa_child_family_tmp1_df = copa_child_family_df.copy()\n",
    "copa_child_family_tmp1_df = copa_child_family_tmp1_df.assign(address_combined = lambda x: x['addressNumber'].fillna(0).astype(int).astype(str) +' ' + x['addressDir'].fillna('') +' ' + x['address'].fillna('') +' '+ x['addressType'].fillna(''),\n",
    "                                                            new_zip = lambda x: x['zipCode'].fillna(0).astype(int).astype(str))\n",
    "\n",
    "format_add_create_md5(copa_child_family_tmp1_df, 'address_combined', 'new_zip', 'city', 'state')"
   ]
  },
  {
   "cell_type": "code",
   "execution_count": 0,
   "metadata": {
    "application/vnd.databricks.v1+cell": {
     "inputWidgets": {},
     "nuid": "549da08a-a01d-47ab-b85f-e55bf9b2bf70",
     "showTitle": false,
     "title": ""
    }
   },
   "outputs": [
    {
     "data": {
      "text/html": [
       "<style scoped>\n",
       "  .ansiout {\n",
       "    display: block;\n",
       "    unicode-bidi: embed;\n",
       "    white-space: pre-wrap;\n",
       "    word-wrap: break-word;\n",
       "    word-break: break-all;\n",
       "    font-family: \"Source Code Pro\", \"Menlo\", monospace;;\n",
       "    font-size: 13px;\n",
       "    color: #555;\n",
       "    margin-left: 4px;\n",
       "    line-height: 19px;\n",
       "  }\n",
       "</style>\n",
       "<div class=\"ansiout\"></div>"
      ]
     },
     "metadata": {
      "application/vnd.databricks.v1+output": {
       "addedWidgets": {},
       "arguments": {},
       "data": "<div class=\"ansiout\"></div>",
       "datasetInfos": [],
       "removedWidgets": [],
       "type": "html"
      }
     },
     "output_type": "display_data"
    }
   ],
   "source": [
    "copa_child_family_tmp1_df.to_csv(p_path + '01_Source/02_COPA/' + copa_release + '/child_addresses_edt.csv', index=False)\n",
    "copa_child_family_tmp1_df.to_parquet(p_path + '01_Source/02_COPA/' + copa_release + '/child_addresses_edt.parquet', index=False)"
   ]
  },
  {
   "cell_type": "code",
   "execution_count": 0,
   "metadata": {
    "application/vnd.databricks.v1+cell": {
     "inputWidgets": {},
     "nuid": "994fbc59-02b8-4049-8108-7a550e834549",
     "showTitle": false,
     "title": ""
    }
   },
   "outputs": [
    {
     "data": {
      "text/html": [
       "<style scoped>\n",
       "  .ansiout {\n",
       "    display: block;\n",
       "    unicode-bidi: embed;\n",
       "    white-space: pre-wrap;\n",
       "    word-wrap: break-word;\n",
       "    word-break: break-all;\n",
       "    font-family: \"Source Code Pro\", \"Menlo\", monospace;;\n",
       "    font-size: 13px;\n",
       "    color: #555;\n",
       "    margin-left: 4px;\n",
       "    line-height: 19px;\n",
       "  }\n",
       "</style>\n",
       "<div class=\"ansiout\">Out[24]: (11473, 16)</div>"
      ]
     },
     "metadata": {
      "application/vnd.databricks.v1+output": {
       "addedWidgets": {},
       "arguments": {},
       "data": "<div class=\"ansiout\">Out[24]: (11473, 16)</div>",
       "datasetInfos": [],
       "removedWidgets": [],
       "type": "html"
      }
     },
     "output_type": "display_data"
    }
   ],
   "source": [
    "copa_child_family_tmp1_df.shape"
   ]
  },
  {
   "cell_type": "markdown",
   "metadata": {
    "application/vnd.databricks.v1+cell": {
     "inputWidgets": {},
     "nuid": "0bdb9ae3-a81a-42d6-a179-3e45afd51d3b",
     "showTitle": false,
     "title": ""
    }
   },
   "source": [
    "## Combine all addresses into a single dataframe"
   ]
  },
  {
   "cell_type": "code",
   "execution_count": 0,
   "metadata": {
    "application/vnd.databricks.v1+cell": {
     "inputWidgets": {},
     "nuid": "189f7034-bfd3-4ec2-bcf9-ee8e91827a50",
     "showTitle": false,
     "title": ""
    }
   },
   "outputs": [
    {
     "data": {
      "text/html": [
       "<style scoped>\n",
       "  .ansiout {\n",
       "    display: block;\n",
       "    unicode-bidi: embed;\n",
       "    white-space: pre-wrap;\n",
       "    word-wrap: break-word;\n",
       "    word-break: break-all;\n",
       "    font-family: \"Source Code Pro\", \"Menlo\", monospace;;\n",
       "    font-size: 13px;\n",
       "    color: #555;\n",
       "    margin-left: 4px;\n",
       "    line-height: 19px;\n",
       "  }\n",
       "</style>\n",
       "<div class=\"ansiout\"></div>"
      ]
     },
     "metadata": {
      "application/vnd.databricks.v1+output": {
       "addedWidgets": {},
       "arguments": {},
       "data": "<div class=\"ansiout\"></div>",
       "datasetInfos": [],
       "removedWidgets": [],
       "type": "html"
      }
     },
     "output_type": "display_data"
    }
   ],
   "source": [
    "#dcfs_tmp1_df = pd.read_csv(p_path + '01_Source/04_DCFS/' + dcfs_release + '/Daycare Providers_edt.csv')\n",
    "#copa_site_tmp1_df = pd.read_csv(p_path + '01_Source/02_COPA/' + copa_release + '/site_edt.csv')\n",
    "#copa_child_family_tmp1_df = pd.read_csv(p_path + '01_Source/02_COPA/' + copa_release + '/child_addresses_edt.csv')"
   ]
  },
  {
   "cell_type": "code",
   "execution_count": 0,
   "metadata": {
    "application/vnd.databricks.v1+cell": {
     "inputWidgets": {},
     "nuid": "19fc40a0-81d1-49ea-81c1-e143f4aa3f7b",
     "showTitle": false,
     "title": ""
    }
   },
   "outputs": [
    {
     "data": {
      "text/html": [
       "<style scoped>\n",
       "  .ansiout {\n",
       "    display: block;\n",
       "    unicode-bidi: embed;\n",
       "    white-space: pre-wrap;\n",
       "    word-wrap: break-word;\n",
       "    word-break: break-all;\n",
       "    font-family: \"Source Code Pro\", \"Menlo\", monospace;;\n",
       "    font-size: 13px;\n",
       "    color: #555;\n",
       "    margin-left: 4px;\n",
       "    line-height: 19px;\n",
       "  }\n",
       "</style>\n",
       "<div class=\"ansiout\"></div>"
      ]
     },
     "metadata": {
      "application/vnd.databricks.v1+output": {
       "addedWidgets": {},
       "arguments": {},
       "data": "<div class=\"ansiout\"></div>",
       "datasetInfos": [],
       "removedWidgets": [],
       "type": "html"
      }
     },
     "output_type": "display_data"
    }
   ],
   "source": [
    "all_add_tmp1_df = pd.concat([idhs_tmp1_df[['street_address_edt', 'city_edt', 'state_edt', 'zip_code_edt', 'md5']], \\\n",
    "                             dcfs_tmp1_df[['street_address_edt', 'city_edt', 'state_edt', 'zip_code_edt', 'md5']], \\\n",
    "                             copa_site_tmp1_df[['street_address_edt', 'city_edt', 'state_edt', 'zip_code_edt', 'md5']], \\\n",
    "                             copa_child_family_tmp1_df[['street_address_edt', 'city_edt', 'state_edt', 'zip_code_edt', 'md5']]])\\\n",
    "                  .drop_duplicates()"
   ]
  },
  {
   "cell_type": "code",
   "execution_count": 0,
   "metadata": {
    "application/vnd.databricks.v1+cell": {
     "inputWidgets": {},
     "nuid": "0de864b9-73a6-4abf-a204-d37dd84ab7ea",
     "showTitle": false,
     "title": ""
    }
   },
   "outputs": [
    {
     "data": {
      "text/html": [
       "<style scoped>\n",
       "  .ansiout {\n",
       "    display: block;\n",
       "    unicode-bidi: embed;\n",
       "    white-space: pre-wrap;\n",
       "    word-wrap: break-word;\n",
       "    word-break: break-all;\n",
       "    font-family: \"Source Code Pro\", \"Menlo\", monospace;;\n",
       "    font-size: 13px;\n",
       "    color: #555;\n",
       "    margin-left: 4px;\n",
       "    line-height: 19px;\n",
       "  }\n",
       "</style>\n",
       "<div class=\"ansiout\">Out[26]: ((14083, 5), (13662, 13), (2635, 13), (1655, 13), (11473, 16))</div>"
      ]
     },
     "metadata": {
      "application/vnd.databricks.v1+output": {
       "addedWidgets": {},
       "arguments": {},
       "data": "<div class=\"ansiout\">Out[26]: ((14083, 5), (13662, 13), (2635, 13), (1655, 13), (11473, 16))</div>",
       "datasetInfos": [],
       "removedWidgets": [],
       "type": "html"
      }
     },
     "output_type": "display_data"
    }
   ],
   "source": [
    "all_add_tmp1_df.shape, idhs_tmp1_df.shape, dcfs_tmp1_df.shape, copa_site_tmp1_df.shape, copa_child_family_tmp1_df.shape"
   ]
  },
  {
   "cell_type": "code",
   "execution_count": 0,
   "metadata": {
    "application/vnd.databricks.v1+cell": {
     "inputWidgets": {},
     "nuid": "fc4b5cc2-cb15-45fb-8307-361455ea1441",
     "showTitle": false,
     "title": ""
    }
   },
   "outputs": [
    {
     "data": {
      "text/html": [
       "<style scoped>\n",
       "  .ansiout {\n",
       "    display: block;\n",
       "    unicode-bidi: embed;\n",
       "    white-space: pre-wrap;\n",
       "    word-wrap: break-word;\n",
       "    word-break: break-all;\n",
       "    font-family: \"Source Code Pro\", \"Menlo\", monospace;;\n",
       "    font-size: 13px;\n",
       "    color: #555;\n",
       "    margin-left: 4px;\n",
       "    line-height: 19px;\n",
       "  }\n",
       "</style>\n",
       "<div class=\"ansiout\"></div>"
      ]
     },
     "metadata": {
      "application/vnd.databricks.v1+output": {
       "addedWidgets": {},
       "arguments": {},
       "data": "<div class=\"ansiout\"></div>",
       "datasetInfos": [],
       "removedWidgets": [],
       "type": "html"
      }
     },
     "output_type": "display_data"
    }
   ],
   "source": [
    "all_add_tmp1_df.to_csv(p_path + '02_Target/11_Geocoding/' + copa_release + '/all_addresses.csv', index=False)"
   ]
  },
  {
   "cell_type": "markdown",
   "metadata": {
    "application/vnd.databricks.v1+cell": {
     "inputWidgets": {},
     "nuid": "1ecce611-2260-49b2-be77-da93413a77b5",
     "showTitle": false,
     "title": ""
    }
   },
   "source": [
    "## Check for new addresses"
   ]
  },
  {
   "cell_type": "code",
   "execution_count": 0,
   "metadata": {
    "application/vnd.databricks.v1+cell": {
     "inputWidgets": {},
     "nuid": "6cf2aa66-1c34-4e4f-a324-093a9e3954ff",
     "showTitle": false,
     "title": ""
    }
   },
   "outputs": [
    {
     "data": {
      "text/html": [
       "<style scoped>\n",
       "  .ansiout {\n",
       "    display: block;\n",
       "    unicode-bidi: embed;\n",
       "    white-space: pre-wrap;\n",
       "    word-wrap: break-word;\n",
       "    word-break: break-all;\n",
       "    font-family: \"Source Code Pro\", \"Menlo\", monospace;;\n",
       "    font-size: 13px;\n",
       "    color: #555;\n",
       "    margin-left: 4px;\n",
       "    line-height: 19px;\n",
       "  }\n",
       "</style>\n",
       "<div class=\"ansiout\"></div>"
      ]
     },
     "metadata": {
      "application/vnd.databricks.v1+output": {
       "addedWidgets": {},
       "arguments": {},
       "data": "<div class=\"ansiout\"></div>",
       "datasetInfos": [],
       "removedWidgets": [],
       "type": "html"
      }
     },
     "output_type": "display_data"
    }
   ],
   "source": [
    "# Read in addresses master table\n",
    "add_master_df = pd.read_csv(p_path + '02_Target/11_Geocoding/all_addresses_master.csv')"
   ]
  },
  {
   "cell_type": "code",
   "execution_count": 0,
   "metadata": {
    "application/vnd.databricks.v1+cell": {
     "inputWidgets": {},
     "nuid": "a9299d83-9468-4ebf-82f1-a5d067a00ff9",
     "showTitle": false,
     "title": ""
    }
   },
   "outputs": [
    {
     "data": {
      "text/html": [
       "<style scoped>\n",
       "  .ansiout {\n",
       "    display: block;\n",
       "    unicode-bidi: embed;\n",
       "    white-space: pre-wrap;\n",
       "    word-wrap: break-word;\n",
       "    word-break: break-all;\n",
       "    font-family: \"Source Code Pro\", \"Menlo\", monospace;;\n",
       "    font-size: 13px;\n",
       "    color: #555;\n",
       "    margin-left: 4px;\n",
       "    line-height: 19px;\n",
       "  }\n",
       "</style>\n",
       "<div class=\"ansiout\"></div>"
      ]
     },
     "metadata": {
      "application/vnd.databricks.v1+output": {
       "addedWidgets": {},
       "arguments": {},
       "data": "<div class=\"ansiout\"></div>",
       "datasetInfos": [],
       "removedWidgets": [],
       "type": "html"
      }
     },
     "output_type": "display_data"
    }
   ],
   "source": [
    "all_add_tmp2_df = all_add_tmp1_df.merge(add_master_df, on='md5', how='left')"
   ]
  },
  {
   "cell_type": "code",
   "execution_count": 0,
   "metadata": {
    "application/vnd.databricks.v1+cell": {
     "inputWidgets": {},
     "nuid": "4a507b1a-56b2-4167-83c9-e3e24cca01e2",
     "showTitle": false,
     "title": ""
    }
   },
   "outputs": [
    {
     "data": {
      "text/html": [
       "<style scoped>\n",
       "  .ansiout {\n",
       "    display: block;\n",
       "    unicode-bidi: embed;\n",
       "    white-space: pre-wrap;\n",
       "    word-wrap: break-word;\n",
       "    word-break: break-all;\n",
       "    font-family: \"Source Code Pro\", \"Menlo\", monospace;;\n",
       "    font-size: 13px;\n",
       "    color: #555;\n",
       "    margin-left: 4px;\n",
       "    line-height: 19px;\n",
       "  }\n",
       "</style>\n",
       "<div class=\"ansiout\"></div>"
      ]
     },
     "metadata": {
      "application/vnd.databricks.v1+output": {
       "addedWidgets": {},
       "arguments": {},
       "data": "<div class=\"ansiout\"></div>",
       "datasetInfos": [],
       "removedWidgets": [],
       "type": "html"
      }
     },
     "output_type": "display_data"
    }
   ],
   "source": [
    "address_to_be_geocoded_df = all_add_tmp2_df.loc[all_add_tmp2_df['place_id'].isnull(), ['street_address_edt', 'city_edt', 'state_edt', 'zip_code_edt', 'md5']]\\\n",
    "                                           .reset_index()\\\n",
    "                                           .drop(columns='index')\\\n",
    "                                           .drop_duplicates() "
   ]
  },
  {
   "cell_type": "code",
   "execution_count": 0,
   "metadata": {
    "application/vnd.databricks.v1+cell": {
     "inputWidgets": {},
     "nuid": "545cdec2-706f-4515-b7d7-f395f0f13199",
     "showTitle": false,
     "title": ""
    }
   },
   "outputs": [
    {
     "data": {
      "text/html": [
       "<style scoped>\n",
       "  .ansiout {\n",
       "    display: block;\n",
       "    unicode-bidi: embed;\n",
       "    white-space: pre-wrap;\n",
       "    word-wrap: break-word;\n",
       "    word-break: break-all;\n",
       "    font-family: \"Source Code Pro\", \"Menlo\", monospace;;\n",
       "    font-size: 13px;\n",
       "    color: #555;\n",
       "    margin-left: 4px;\n",
       "    line-height: 19px;\n",
       "  }\n",
       "</style>\n",
       "<div class=\"ansiout\">Out[31]: (92, 5)</div>"
      ]
     },
     "metadata": {
      "application/vnd.databricks.v1+output": {
       "addedWidgets": {},
       "arguments": {},
       "data": "<div class=\"ansiout\">Out[31]: (92, 5)</div>",
       "datasetInfos": [],
       "removedWidgets": [],
       "type": "html"
      }
     },
     "output_type": "display_data"
    }
   ],
   "source": [
    "address_to_be_geocoded_df.shape"
   ]
  },
  {
   "cell_type": "code",
   "execution_count": 0,
   "metadata": {
    "application/vnd.databricks.v1+cell": {
     "inputWidgets": {},
     "nuid": "e6867752-81f3-4286-ab48-77ba33988f40",
     "showTitle": false,
     "title": ""
    }
   },
   "outputs": [
    {
     "data": {
      "text/html": [
       "<style scoped>\n",
       "  .ansiout {\n",
       "    display: block;\n",
       "    unicode-bidi: embed;\n",
       "    white-space: pre-wrap;\n",
       "    word-wrap: break-word;\n",
       "    word-break: break-all;\n",
       "    font-family: \"Source Code Pro\", \"Menlo\", monospace;;\n",
       "    font-size: 13px;\n",
       "    color: #555;\n",
       "    margin-left: 4px;\n",
       "    line-height: 19px;\n",
       "  }\n",
       "</style>\n",
       "<div class=\"ansiout\"></div>"
      ]
     },
     "metadata": {
      "application/vnd.databricks.v1+output": {
       "addedWidgets": {},
       "arguments": {},
       "data": "<div class=\"ansiout\"></div>",
       "datasetInfos": [],
       "removedWidgets": [],
       "type": "html"
      }
     },
     "output_type": "display_data"
    }
   ],
   "source": [
    "address_to_be_geocoded_df.to_csv(p_path + '02_Target/11_Geocoding/' + copa_release + '/address_to_be_geocoded.csv', index=False)"
   ]
  },
  {
   "cell_type": "markdown",
   "metadata": {
    "application/vnd.databricks.v1+cell": {
     "inputWidgets": {},
     "nuid": "6b0be841-76f0-4f3f-92fa-37af2b916e1c",
     "showTitle": false,
     "title": ""
    }
   },
   "source": [
    "# TEST"
   ]
  },
  {
   "cell_type": "code",
   "execution_count": 0,
   "metadata": {
    "application/vnd.databricks.v1+cell": {
     "inputWidgets": {},
     "nuid": "0f3db696-9333-4af5-9cee-ca62a8c01d8f",
     "showTitle": false,
     "title": ""
    }
   },
   "outputs": [
    {
     "data": {
      "text/html": [
       "<style scoped>\n",
       "  .ansiout {\n",
       "    display: block;\n",
       "    unicode-bidi: embed;\n",
       "    white-space: pre-wrap;\n",
       "    word-wrap: break-word;\n",
       "    word-break: break-all;\n",
       "    font-family: \"Source Code Pro\", \"Menlo\", monospace;;\n",
       "    font-size: 13px;\n",
       "    color: #555;\n",
       "    margin-left: 4px;\n",
       "    line-height: 19px;\n",
       "  }\n",
       "</style>\n",
       "<div class=\"ansiout\">Out[56]: </div>"
      ]
     },
     "metadata": {
      "application/vnd.databricks.v1+output": {
       "addedWidgets": {},
       "arguments": {},
       "data": "<div class=\"ansiout\">Out[56]: </div>",
       "datasetInfos": [],
       "removedWidgets": [],
       "type": "html"
      }
     },
     "output_type": "display_data"
    },
    {
     "data": {
      "text/html": [
       "<div>\n",
       "<style scoped>\n",
       "    .dataframe tbody tr th:only-of-type {\n",
       "        vertical-align: middle;\n",
       "    }\n",
       "\n",
       "    .dataframe tbody tr th {\n",
       "        vertical-align: top;\n",
       "    }\n",
       "\n",
       "    .dataframe thead th {\n",
       "        text-align: right;\n",
       "    }\n",
       "</style>\n",
       "<table border=\"1\" class=\"dataframe\">\n",
       "  <thead>\n",
       "    <tr style=\"text-align: right;\">\n",
       "      <th></th>\n",
       "      <th>Street</th>\n",
       "      <th>City</th>\n",
       "      <th>State</th>\n",
       "      <th>Zip</th>\n",
       "      <th>ParsedAddresses</th>\n",
       "      <th>Latitude</th>\n",
       "      <th>Longitude</th>\n",
       "      <th>formatted_address</th>\n",
       "      <th>place_id</th>\n",
       "      <th>census_tract</th>\n",
       "      <th>community</th>\n",
       "      <th>community_number</th>\n",
       "      <th>ward_geo_id</th>\n",
       "      <th>zip_code</th>\n",
       "      <th>school_id</th>\n",
       "      <th>address_zip</th>\n",
       "      <th>md5</th>\n",
       "    </tr>\n",
       "  </thead>\n",
       "  <tbody>\n",
       "  </tbody>\n",
       "</table>\n",
       "</div>"
      ]
     },
     "metadata": {
      "application/vnd.databricks.v1+output": {
       "addedWidgets": {},
       "arguments": {},
       "data": "<div>\n<style scoped>\n    .dataframe tbody tr th:only-of-type {\n        vertical-align: middle;\n    }\n\n    .dataframe tbody tr th {\n        vertical-align: top;\n    }\n\n    .dataframe thead th {\n        text-align: right;\n    }\n</style>\n<table border=\"1\" class=\"dataframe\">\n  <thead>\n    <tr style=\"text-align: right;\">\n      <th></th>\n      <th>Street</th>\n      <th>City</th>\n      <th>State</th>\n      <th>Zip</th>\n      <th>ParsedAddresses</th>\n      <th>Latitude</th>\n      <th>Longitude</th>\n      <th>formatted_address</th>\n      <th>place_id</th>\n      <th>census_tract</th>\n      <th>community</th>\n      <th>community_number</th>\n      <th>ward_geo_id</th>\n      <th>zip_code</th>\n      <th>school_id</th>\n      <th>address_zip</th>\n      <th>md5</th>\n    </tr>\n  </thead>\n  <tbody>\n  </tbody>\n</table>\n</div>",
       "datasetInfos": [],
       "removedWidgets": [],
       "textData": null,
       "type": "htmlSandbox"
      }
     },
     "output_type": "display_data"
    }
   ],
   "source": [
    "#add_master_df.loc[add_master_df['Street'].str.contains('5840')]"
   ]
  },
  {
   "cell_type": "code",
   "execution_count": 0,
   "metadata": {
    "application/vnd.databricks.v1+cell": {
     "inputWidgets": {},
     "nuid": "50c2b124-105f-4c4e-be4e-2a51a15197ac",
     "showTitle": false,
     "title": ""
    }
   },
   "outputs": [
    {
     "data": {
      "text/html": [
       "<style scoped>\n",
       "  .ansiout {\n",
       "    display: block;\n",
       "    unicode-bidi: embed;\n",
       "    white-space: pre-wrap;\n",
       "    word-wrap: break-word;\n",
       "    word-break: break-all;\n",
       "    font-family: \"Source Code Pro\", \"Menlo\", monospace;;\n",
       "    font-size: 13px;\n",
       "    color: #555;\n",
       "    margin-left: 4px;\n",
       "    line-height: 19px;\n",
       "  }\n",
       "</style>\n",
       "<div class=\"ansiout\">Out[33]: </div>"
      ]
     },
     "metadata": {
      "application/vnd.databricks.v1+output": {
       "addedWidgets": {},
       "arguments": {},
       "data": "<div class=\"ansiout\">Out[33]: </div>",
       "datasetInfos": [],
       "removedWidgets": [],
       "type": "html"
      }
     },
     "output_type": "display_data"
    },
    {
     "data": {
      "text/html": [
       "<div>\n",
       "<style scoped>\n",
       "    .dataframe tbody tr th:only-of-type {\n",
       "        vertical-align: middle;\n",
       "    }\n",
       "\n",
       "    .dataframe tbody tr th {\n",
       "        vertical-align: top;\n",
       "    }\n",
       "\n",
       "    .dataframe thead th {\n",
       "        text-align: right;\n",
       "    }\n",
       "</style>\n",
       "<table border=\"1\" class=\"dataframe\">\n",
       "  <thead>\n",
       "    <tr style=\"text-align: right;\">\n",
       "      <th></th>\n",
       "      <th>street_address_edt</th>\n",
       "      <th>city_edt</th>\n",
       "      <th>state_edt</th>\n",
       "      <th>zip_code_edt</th>\n",
       "      <th>md5</th>\n",
       "    </tr>\n",
       "  </thead>\n",
       "  <tbody>\n",
       "    <tr>\n",
       "      <th>0</th>\n",
       "      <td>5234 S. BLACKSTONE ST. SUITE H</td>\n",
       "      <td>CHICAGO</td>\n",
       "      <td>IL</td>\n",
       "      <td>60615</td>\n",
       "      <td>e913a557ad529672a546a9b688ada67a</td>\n",
       "    </tr>\n",
       "    <tr>\n",
       "      <th>1</th>\n",
       "      <td>929 N AVERS ST.</td>\n",
       "      <td>CHICAGO</td>\n",
       "      <td>IL</td>\n",
       "      <td>60651</td>\n",
       "      <td>47d1186e02104a419122240aba016658</td>\n",
       "    </tr>\n",
       "    <tr>\n",
       "      <th>2</th>\n",
       "      <td>1324 W 82ND</td>\n",
       "      <td>CHICAGO</td>\n",
       "      <td>IL</td>\n",
       "      <td>60620</td>\n",
       "      <td>0a7cd4cd8d5b4b6eb93fba4529c11eb0</td>\n",
       "    </tr>\n",
       "    <tr>\n",
       "      <th>3</th>\n",
       "      <td>510 E 40TH ST.</td>\n",
       "      <td>CHICAGO</td>\n",
       "      <td>IL</td>\n",
       "      <td>60653</td>\n",
       "      <td>e891d3e9843dcc04ba285e418a1122df</td>\n",
       "    </tr>\n",
       "    <tr>\n",
       "      <th>4</th>\n",
       "      <td>1531 E 65TH  ST.</td>\n",
       "      <td>CHICAGO</td>\n",
       "      <td>IL</td>\n",
       "      <td>60637</td>\n",
       "      <td>8540cf870fa9637a21dcca7c91a7ed33</td>\n",
       "    </tr>\n",
       "    <tr>\n",
       "      <th>...</th>\n",
       "      <td>...</td>\n",
       "      <td>...</td>\n",
       "      <td>...</td>\n",
       "      <td>...</td>\n",
       "      <td>...</td>\n",
       "    </tr>\n",
       "    <tr>\n",
       "      <th>87</th>\n",
       "      <td>5702 S FAIRFIELD  AVE.</td>\n",
       "      <td>CHICAGO</td>\n",
       "      <td>IL</td>\n",
       "      <td>60632</td>\n",
       "      <td>ab92989e7af965681df5b10e79ac01e7</td>\n",
       "    </tr>\n",
       "    <tr>\n",
       "      <th>88</th>\n",
       "      <td>8315 S SOUTH SHORE</td>\n",
       "      <td>CHICAGO</td>\n",
       "      <td>IL</td>\n",
       "      <td>60617</td>\n",
       "      <td>5df2a1185d70bf0d775968fefa1fdaa4</td>\n",
       "    </tr>\n",
       "    <tr>\n",
       "      <th>89</th>\n",
       "      <td>2440 W 46TH ST.</td>\n",
       "      <td>CHICAGO</td>\n",
       "      <td>IL</td>\n",
       "      <td>60632</td>\n",
       "      <td>d130991e0722bd292b4fdbf43c1660f6</td>\n",
       "    </tr>\n",
       "    <tr>\n",
       "      <th>90</th>\n",
       "      <td>3344 W FULTON AVE.</td>\n",
       "      <td>CHICAGO</td>\n",
       "      <td>IL</td>\n",
       "      <td>60624</td>\n",
       "      <td>2f41d7e5d689ded34e329c7f6ceacae1</td>\n",
       "    </tr>\n",
       "    <tr>\n",
       "      <th>91</th>\n",
       "      <td>7054 S WINCHESTER ST.</td>\n",
       "      <td>CHICAGO</td>\n",
       "      <td>IL</td>\n",
       "      <td>60632</td>\n",
       "      <td>807724069f2af0cefd7ecb07223bd062</td>\n",
       "    </tr>\n",
       "  </tbody>\n",
       "</table>\n",
       "<p>92 rows × 5 columns</p>\n",
       "</div>"
      ]
     },
     "metadata": {
      "application/vnd.databricks.v1+output": {
       "addedWidgets": {},
       "arguments": {},
       "data": "<div>\n<style scoped>\n    .dataframe tbody tr th:only-of-type {\n        vertical-align: middle;\n    }\n\n    .dataframe tbody tr th {\n        vertical-align: top;\n    }\n\n    .dataframe thead th {\n        text-align: right;\n    }\n</style>\n<table border=\"1\" class=\"dataframe\">\n  <thead>\n    <tr style=\"text-align: right;\">\n      <th></th>\n      <th>street_address_edt</th>\n      <th>city_edt</th>\n      <th>state_edt</th>\n      <th>zip_code_edt</th>\n      <th>md5</th>\n    </tr>\n  </thead>\n  <tbody>\n    <tr>\n      <th>0</th>\n      <td>5234 S. BLACKSTONE ST. SUITE H</td>\n      <td>CHICAGO</td>\n      <td>IL</td>\n      <td>60615</td>\n      <td>e913a557ad529672a546a9b688ada67a</td>\n    </tr>\n    <tr>\n      <th>1</th>\n      <td>929 N AVERS ST.</td>\n      <td>CHICAGO</td>\n      <td>IL</td>\n      <td>60651</td>\n      <td>47d1186e02104a419122240aba016658</td>\n    </tr>\n    <tr>\n      <th>2</th>\n      <td>1324 W 82ND</td>\n      <td>CHICAGO</td>\n      <td>IL</td>\n      <td>60620</td>\n      <td>0a7cd4cd8d5b4b6eb93fba4529c11eb0</td>\n    </tr>\n    <tr>\n      <th>3</th>\n      <td>510 E 40TH ST.</td>\n      <td>CHICAGO</td>\n      <td>IL</td>\n      <td>60653</td>\n      <td>e891d3e9843dcc04ba285e418a1122df</td>\n    </tr>\n    <tr>\n      <th>4</th>\n      <td>1531 E 65TH  ST.</td>\n      <td>CHICAGO</td>\n      <td>IL</td>\n      <td>60637</td>\n      <td>8540cf870fa9637a21dcca7c91a7ed33</td>\n    </tr>\n    <tr>\n      <th>...</th>\n      <td>...</td>\n      <td>...</td>\n      <td>...</td>\n      <td>...</td>\n      <td>...</td>\n    </tr>\n    <tr>\n      <th>87</th>\n      <td>5702 S FAIRFIELD  AVE.</td>\n      <td>CHICAGO</td>\n      <td>IL</td>\n      <td>60632</td>\n      <td>ab92989e7af965681df5b10e79ac01e7</td>\n    </tr>\n    <tr>\n      <th>88</th>\n      <td>8315 S SOUTH SHORE</td>\n      <td>CHICAGO</td>\n      <td>IL</td>\n      <td>60617</td>\n      <td>5df2a1185d70bf0d775968fefa1fdaa4</td>\n    </tr>\n    <tr>\n      <th>89</th>\n      <td>2440 W 46TH ST.</td>\n      <td>CHICAGO</td>\n      <td>IL</td>\n      <td>60632</td>\n      <td>d130991e0722bd292b4fdbf43c1660f6</td>\n    </tr>\n    <tr>\n      <th>90</th>\n      <td>3344 W FULTON AVE.</td>\n      <td>CHICAGO</td>\n      <td>IL</td>\n      <td>60624</td>\n      <td>2f41d7e5d689ded34e329c7f6ceacae1</td>\n    </tr>\n    <tr>\n      <th>91</th>\n      <td>7054 S WINCHESTER ST.</td>\n      <td>CHICAGO</td>\n      <td>IL</td>\n      <td>60632</td>\n      <td>807724069f2af0cefd7ecb07223bd062</td>\n    </tr>\n  </tbody>\n</table>\n<p>92 rows × 5 columns</p>\n</div>",
       "datasetInfos": [],
       "removedWidgets": [],
       "textData": null,
       "type": "htmlSandbox"
      }
     },
     "output_type": "display_data"
    }
   ],
   "source": [
    "address_to_be_geocoded_df"
   ]
  },
  {
   "cell_type": "code",
   "execution_count": 0,
   "metadata": {
    "application/vnd.databricks.v1+cell": {
     "inputWidgets": {},
     "nuid": "8c7b69bf-1b43-484c-ad74-59f4654857c8",
     "showTitle": false,
     "title": ""
    }
   },
   "outputs": [
    {
     "data": {
      "text/html": [
       "<style scoped>\n",
       "  .ansiout {\n",
       "    display: block;\n",
       "    unicode-bidi: embed;\n",
       "    white-space: pre-wrap;\n",
       "    word-wrap: break-word;\n",
       "    word-break: break-all;\n",
       "    font-family: \"Source Code Pro\", \"Menlo\", monospace;;\n",
       "    font-size: 13px;\n",
       "    color: #555;\n",
       "    margin-left: 4px;\n",
       "    line-height: 19px;\n",
       "  }\n",
       "</style>\n",
       "<div class=\"ansiout\"></div>"
      ]
     },
     "metadata": {
      "application/vnd.databricks.v1+output": {
       "addedWidgets": {},
       "arguments": {},
       "data": "<div class=\"ansiout\"></div>",
       "datasetInfos": [],
       "removedWidgets": [],
       "type": "html"
      }
     },
     "output_type": "display_data"
    }
   ],
   "source": [
    "#all_add_tmp1_df.head(1)"
   ]
  },
  {
   "cell_type": "code",
   "execution_count": 0,
   "metadata": {
    "application/vnd.databricks.v1+cell": {
     "inputWidgets": {},
     "nuid": "3ba046bf-1604-4282-926f-abdac25feeea",
     "showTitle": false,
     "title": ""
    }
   },
   "outputs": [
    {
     "data": {
      "text/html": [
       "<style scoped>\n",
       "  .ansiout {\n",
       "    display: block;\n",
       "    unicode-bidi: embed;\n",
       "    white-space: pre-wrap;\n",
       "    word-wrap: break-word;\n",
       "    word-break: break-all;\n",
       "    font-family: \"Source Code Pro\", \"Menlo\", monospace;;\n",
       "    font-size: 13px;\n",
       "    color: #555;\n",
       "    margin-left: 4px;\n",
       "    line-height: 19px;\n",
       "  }\n",
       "</style>\n",
       "<div class=\"ansiout\"></div>"
      ]
     },
     "metadata": {
      "application/vnd.databricks.v1+output": {
       "addedWidgets": {},
       "arguments": {},
       "data": "<div class=\"ansiout\"></div>",
       "datasetInfos": [],
       "removedWidgets": [],
       "type": "html"
      }
     },
     "output_type": "display_data"
    }
   ],
   "source": [
    "#all_add_tmp1_df.loc[all_add_tmp1_df['street_address_edt'].str.contains('RHODES ')]"
   ]
  },
  {
   "cell_type": "code",
   "execution_count": 0,
   "metadata": {
    "application/vnd.databricks.v1+cell": {
     "inputWidgets": {},
     "nuid": "477b1b77-0072-4a12-a030-9ff0568f9d13",
     "showTitle": false,
     "title": ""
    }
   },
   "outputs": [
    {
     "data": {
      "text/html": [
       "<style scoped>\n",
       "  .ansiout {\n",
       "    display: block;\n",
       "    unicode-bidi: embed;\n",
       "    white-space: pre-wrap;\n",
       "    word-wrap: break-word;\n",
       "    word-break: break-all;\n",
       "    font-family: \"Source Code Pro\", \"Menlo\", monospace;;\n",
       "    font-size: 13px;\n",
       "    color: #555;\n",
       "    margin-left: 4px;\n",
       "    line-height: 19px;\n",
       "  }\n",
       "</style>\n",
       "<div class=\"ansiout\"></div>"
      ]
     },
     "metadata": {
      "application/vnd.databricks.v1+output": {
       "addedWidgets": {},
       "arguments": {},
       "data": "<div class=\"ansiout\"></div>",
       "datasetInfos": [],
       "removedWidgets": [],
       "type": "html"
      }
     },
     "output_type": "display_data"
    }
   ],
   "source": [
    "#add_master_df.loc[add_master_df['Street'].str.contains('7743')]"
   ]
  },
  {
   "cell_type": "code",
   "execution_count": 0,
   "metadata": {
    "application/vnd.databricks.v1+cell": {
     "inputWidgets": {},
     "nuid": "83caec0a-ab98-4e40-8312-763e6ed4b50d",
     "showTitle": false,
     "title": ""
    }
   },
   "outputs": [
    {
     "data": {
      "text/html": [
       "<style scoped>\n",
       "  .ansiout {\n",
       "    display: block;\n",
       "    unicode-bidi: embed;\n",
       "    white-space: pre-wrap;\n",
       "    word-wrap: break-word;\n",
       "    word-break: break-all;\n",
       "    font-family: \"Source Code Pro\", \"Menlo\", monospace;;\n",
       "    font-size: 13px;\n",
       "    color: #555;\n",
       "    margin-left: 4px;\n",
       "    line-height: 19px;\n",
       "  }\n",
       "</style>\n",
       "<div class=\"ansiout\"></div>"
      ]
     },
     "metadata": {
      "application/vnd.databricks.v1+output": {
       "addedWidgets": {},
       "arguments": {},
       "data": "<div class=\"ansiout\"></div>",
       "datasetInfos": [],
       "removedWidgets": [],
       "type": "html"
      }
     },
     "output_type": "display_data"
    }
   ],
   "source": [
    "#address_to_be_geocoded_df.head(2)"
   ]
  },
  {
   "cell_type": "code",
   "execution_count": 0,
   "metadata": {
    "application/vnd.databricks.v1+cell": {
     "inputWidgets": {},
     "nuid": "694bf2a6-fd02-4714-bee9-a4bd10a253b0",
     "showTitle": false,
     "title": ""
    }
   },
   "outputs": [
    {
     "data": {
      "text/html": [
       "<style scoped>\n",
       "  .ansiout {\n",
       "    display: block;\n",
       "    unicode-bidi: embed;\n",
       "    white-space: pre-wrap;\n",
       "    word-wrap: break-word;\n",
       "    word-break: break-all;\n",
       "    font-family: \"Source Code Pro\", \"Menlo\", monospace;;\n",
       "    font-size: 13px;\n",
       "    color: #555;\n",
       "    margin-left: 4px;\n",
       "    line-height: 19px;\n",
       "  }\n",
       "</style>\n",
       "<div class=\"ansiout\"></div>"
      ]
     },
     "metadata": {
      "application/vnd.databricks.v1+output": {
       "addedWidgets": {},
       "arguments": {},
       "data": "<div class=\"ansiout\"></div>",
       "datasetInfos": [],
       "removedWidgets": [],
       "type": "html"
      }
     },
     "output_type": "display_data"
    }
   ],
   "source": [
    "#address_to_be_geocoded_df.loc[address_to_be_geocoded_df['md5'] =='06c7b1db5c1e1787ba6e0a5fb79704ee']\n",
    "#add_master_df.loc[add_master_df['md5'] =='06c7b1db5c1e1787ba6e0a5fb79704ee']"
   ]
  },
  {
   "cell_type": "code",
   "execution_count": 0,
   "metadata": {
    "application/vnd.databricks.v1+cell": {
     "inputWidgets": {},
     "nuid": "5fee9ae7-a1bd-4f7a-bbf6-6cdb89f404ac",
     "showTitle": false,
     "title": ""
    }
   },
   "outputs": [
    {
     "data": {
      "text/html": [
       "<style scoped>\n",
       "  .ansiout {\n",
       "    display: block;\n",
       "    unicode-bidi: embed;\n",
       "    white-space: pre-wrap;\n",
       "    word-wrap: break-word;\n",
       "    word-break: break-all;\n",
       "    font-family: \"Source Code Pro\", \"Menlo\", monospace;;\n",
       "    font-size: 13px;\n",
       "    color: #555;\n",
       "    margin-left: 4px;\n",
       "    line-height: 19px;\n",
       "  }\n",
       "</style>\n",
       "<div class=\"ansiout\"></div>"
      ]
     },
     "metadata": {
      "application/vnd.databricks.v1+output": {
       "addedWidgets": {},
       "arguments": {},
       "data": "<div class=\"ansiout\"></div>",
       "datasetInfos": [],
       "removedWidgets": [],
       "type": "html"
      }
     },
     "output_type": "display_data"
    }
   ],
   "source": [
    "#all_add_tmp1_df.loc[all_add_tmp1_df['md5'] =='d241e31790087df718e18c95733f3cb4']"
   ]
  },
  {
   "cell_type": "code",
   "execution_count": 0,
   "metadata": {
    "application/vnd.databricks.v1+cell": {
     "inputWidgets": {},
     "nuid": "47e844df-d38b-4fd2-897c-f45b5e39fa6b",
     "showTitle": false,
     "title": ""
    }
   },
   "outputs": [
    {
     "data": {
      "text/html": [
       "<style scoped>\n",
       "  .ansiout {\n",
       "    display: block;\n",
       "    unicode-bidi: embed;\n",
       "    white-space: pre-wrap;\n",
       "    word-wrap: break-word;\n",
       "    word-break: break-all;\n",
       "    font-family: \"Source Code Pro\", \"Menlo\", monospace;;\n",
       "    font-size: 13px;\n",
       "    color: #555;\n",
       "    margin-left: 4px;\n",
       "    line-height: 19px;\n",
       "  }\n",
       "</style>\n",
       "<div class=\"ansiout\"></div>"
      ]
     },
     "metadata": {
      "application/vnd.databricks.v1+output": {
       "addedWidgets": {},
       "arguments": {},
       "data": "<div class=\"ansiout\"></div>",
       "datasetInfos": [],
       "removedWidgets": [],
       "type": "html"
      }
     },
     "output_type": "display_data"
    }
   ],
   "source": [
    "#print(\n",
    "#idhs_tmp1_df.loc[idhs_tmp1_df['md5'] =='06c7b1db5c1e1787ba6e0a5fb79704ee'],\n",
    "#dcfs_tmp1_df.loc[dcfs_tmp1_df['md5'] =='06c7b1db5c1e1787ba6e0a5fb79704ee'],\n",
    "#copa_site_tmp1_df.loc[copa_site_tmp1_df['md5'] =='06c7b1db5c1e1787ba6e0a5fb79704ee'],\n",
    "#copa_child_family_tmp1_df.loc[copa_child_family_tmp1_df['md5'] =='06c7b1db5c1e1787ba6e0a5fb79704ee'])"
   ]
  },
  {
   "cell_type": "code",
   "execution_count": 0,
   "metadata": {
    "application/vnd.databricks.v1+cell": {
     "inputWidgets": {},
     "nuid": "19fd86f4-459c-4b60-80fd-969e3105be6a",
     "showTitle": false,
     "title": ""
    }
   },
   "outputs": [
    {
     "data": {
      "text/html": [
       "<style scoped>\n",
       "  .ansiout {\n",
       "    display: block;\n",
       "    unicode-bidi: embed;\n",
       "    white-space: pre-wrap;\n",
       "    word-wrap: break-word;\n",
       "    word-break: break-all;\n",
       "    font-family: \"Source Code Pro\", \"Menlo\", monospace;;\n",
       "    font-size: 13px;\n",
       "    color: #555;\n",
       "    margin-left: 4px;\n",
       "    line-height: 19px;\n",
       "  }\n",
       "</style>\n",
       "<div class=\"ansiout\"></div>"
      ]
     },
     "metadata": {
      "application/vnd.databricks.v1+output": {
       "addedWidgets": {},
       "arguments": {},
       "data": "<div class=\"ansiout\"></div>",
       "datasetInfos": [],
       "removedWidgets": [],
       "type": "html"
      }
     },
     "output_type": "display_data"
    }
   ],
   "source": [
    "#copa_site_tmp1_df.loc[copa_site_tmp1_df['md5'] =='06c7b1db5c1e1787ba6e0a5fb79704ee']"
   ]
  }
 ],
 "metadata": {
  "application/vnd.databricks.v1+notebook": {
   "dashboards": [],
   "language": "python",
   "notebookName": "01_Create Address Table",
   "notebookOrigID": 1975105297516109,
   "widgets": {
    "copa_release": {
     "currentValue": "2021_02_07",
     "nuid": "d2501636-9ada-420c-a30e-830065bd6f81",
     "widgetInfo": {
      "defaultValue": "2020_10_25",
      "label": null,
      "name": "copa_release",
      "options": {
       "choices": [
        "2020_10_11",
        "2020_10_18",
        "2020_10_25",
        "2020_11_01",
        "2020_11_08",
        "2020_11_15",
        "2020_11_22",
        "2020_11_29",
        "2020_12_06",
        "2020_12_13",
        "2020_12_20",
        "2020_12_27",
        "2021_01_03",
        "2021_01_10",
        "2021_01_17",
        "2021_01_24",
        "2021_01_04",
        "2021_01_05",
        "2021_01_03c",
        "2021_01_06",
        "2021_01_07",
        "2021_01_08",
        "2021_01_10",
        "2021_01_17",
        "2021_01_24",
        "2021_01_31",
        "2021_02_07",
        "2021_02_14",
        "2021_02_21",
        "2021_02_28",
        "2021_03_07"
       ],
       "widgetType": "dropdown"
      },
      "widgetType": "dropdown"
     }
    },
    "dcfs_release": {
     "currentValue": "2021_02_07",
     "nuid": "8c332934-854f-43fc-aab5-fbfe4b7e86c6",
     "widgetInfo": {
      "defaultValue": "2020_10_25",
      "label": null,
      "name": "dcfs_release",
      "options": {
       "choices": [
        "2020_10_11",
        "2020_10_18",
        "2020_10_25",
        "2020_11_01",
        "2020_11_08",
        "2020_11_15",
        "2020_11_22",
        "2020_11_29",
        "2020_12_06",
        "2020_12_13",
        "2020_12_20",
        "2020_12_27",
        "2021_01_03",
        "2021_01_10",
        "2021_01_17",
        "2021_01_24",
        "2021_01_04",
        "2021_01_05",
        "2021_01_03c",
        "2021_01_06",
        "2021_01_07",
        "2021_01_08",
        "2021_01_10",
        "2021_01_17",
        "2021_01_24",
        "2021_01_31",
        "2021_02_07",
        "2021_02_14",
        "2021_02_21",
        "2021_02_28",
        "2021_03_07"
       ],
       "widgetType": "dropdown"
      },
      "widgetType": "dropdown"
     }
    },
    "idhs_release": {
     "currentValue": "2021_02_07",
     "nuid": "ee82d469-3257-4184-b5cf-477d57de11f8",
     "widgetInfo": {
      "defaultValue": "2020_10_25",
      "label": null,
      "name": "idhs_release",
      "options": {
       "choices": [
        "2020_10_11",
        "2020_10_18",
        "2020_10_25",
        "2020_11_01",
        "2020_11_08",
        "2020_11_15",
        "2020_11_22",
        "2020_11_29",
        "2020_12_06",
        "2020_12_13",
        "2020_12_20",
        "2020_12_27",
        "2021_01_03",
        "2021_01_10",
        "2021_01_17",
        "2021_01_24",
        "2021_01_04",
        "2021_01_05",
        "2021_01_03c",
        "2021_01_06",
        "2021_01_07",
        "2021_01_08",
        "2021_01_10",
        "2021_01_17",
        "2021_01_24",
        "2021_01_31",
        "2021_02_07",
        "2021_02_14",
        "2021_02_21",
        "2021_02_28",
        "2021_03_07"
       ],
       "widgetType": "dropdown"
      },
      "widgetType": "dropdown"
     }
    }
   }
  },
  "kernelspec": {
   "display_name": "Python 3",
   "language": "python",
   "name": "python3"
  },
  "language_info": {
   "codemirror_mode": {
    "name": "ipython",
    "version": 3
   },
   "file_extension": ".py",
   "mimetype": "text/x-python",
   "name": "python",
   "nbconvert_exporter": "python",
   "pygments_lexer": "ipython3",
   "version": "3.7.3"
  }
 },
 "nbformat": 4,
 "nbformat_minor": 1
}
